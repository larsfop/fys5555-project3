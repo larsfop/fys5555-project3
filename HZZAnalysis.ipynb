{
 "cells": [
  {
   "cell_type": "code",
   "execution_count": 1,
   "id": "a1711ec7-c082-4555-b51e-c77fac9bc262",
   "metadata": {},
   "outputs": [
    {
     "name": "stdout",
     "output_type": "stream",
     "text": [
      "Requirement already satisfied: xgboost in /usr/local/lib/python3.8/dist-packages (1.5.1)\n",
      "Requirement already satisfied: numpy in /usr/local/lib/python3.8/dist-packages (from xgboost) (1.21.1)\n",
      "Requirement already satisfied: scipy in /usr/local/lib/python3.8/dist-packages (from xgboost) (1.10.0)\n",
      "\u001b[33mWARNING: Running pip as the 'root' user can result in broken permissions and conflicting behaviour with the system package manager. It is recommended to use a virtual environment instead: https://pip.pypa.io/warnings/venv\u001b[0m\u001b[33m\n",
      "\u001b[0m\u001b[33mWARNING: You are using pip version 22.0.4; however, version 24.0 is available.\n",
      "You should consider upgrading via the '/usr/bin/python -m pip install --upgrade pip' command.\u001b[0m\u001b[33m\n",
      "\u001b[0m"
     ]
    }
   ],
   "source": [
    "!pip install xgboost"
   ]
  },
  {
   "cell_type": "code",
   "execution_count": 2,
   "id": "61356992-8806-4740-9246-88bf17130943",
   "metadata": {},
   "outputs": [
    {
     "name": "stdout",
     "output_type": "stream",
     "text": [
      "Welcome to JupyROOT 6.24/02\n",
      "importing Jupyter notebook from setPath.ipynb\n",
      "importing Jupyter notebook from /storage/galaxy/jobs_directory/005/5239/working/jupyter/Input/OpenDataPandaFramework13TeV.ipynb\n",
      "This library contains handy functions to ease the access and use of the 13TeV ATLAS OpenData release\n",
      "\n",
      "getBkgCategories()\n",
      "\t Dumps the name of the various background cataegories available \n",
      "\t as well as the number of samples contained in each category.\n",
      "\t Returns a vector with the name of the categories\n",
      "\n",
      "getSamplesInCategory(cat)\n",
      "\t Dumps the name of the samples contained in a given category (cat)\n",
      "\t Returns dictionary with keys being DSIDs and values physics process name from filename.\n",
      "\n",
      "getMCCategory()\n",
      "\t Returns dictionary with keys DSID and values MC category\n",
      "\n",
      "initialize(indir)\n",
      "\t Collects all the root files available in a certain directory (indir)\n",
      "\n",
      "getSkims(indir)\n",
      "\t Prints all available skims in the directory\n",
      "\n",
      "\n",
      "\n",
      "Setting luminosity to 10064 pb^-1\n",
      "\n",
      "###############################\n",
      "#### Background categories ####\n",
      "###############################\n",
      "Category             N(samples)\n",
      "-------------------------------\n",
      "Diboson                      10\n",
      "Higgs                        20\n",
      "Wjets                        42\n",
      "Wjetsincl                     6\n",
      "Zjets                        42\n",
      "Zjetsincl                     3\n",
      "singleTop                     6\n",
      "topX                          3\n",
      "ttbar                         1\n",
      "###############################\n",
      "#### Signal categories ####\n",
      "###############################\n",
      "Category             N(samples)\n",
      "-------------------------------\n",
      "GG_ttn1                       4\n",
      "Gee                           5\n",
      "Gmumu                         5\n",
      "RS_G_ZZ                       5\n",
      "SUSYC1C1                     10\n",
      "SUSYC1N2                     18\n",
      "SUSYSlepSlep                 14\n",
      "TT_directTT                   4\n",
      "ZPrimeee                      4\n",
      "ZPrimemumu                    4\n",
      "ZPrimett                     12\n",
      "dmV_Zll                      10\n"
     ]
    },
    {
     "data": {
      "text/plain": [
       "0"
      ]
     },
     "execution_count": 2,
     "metadata": {},
     "output_type": "execute_result"
    }
   ],
   "source": [
    "import ROOT as R\n",
    "import uproot\n",
    "\n",
    "import import_ipynb\n",
    "import setPath\n",
    "from os import listdir\n",
    "from os.path import isfile, join\n",
    "from Input.OpenDataPandaFramework13TeV import *\n",
    "\n",
    "import time\n",
    "\n",
    "import pandas as pd\n",
    "import numpy as np\n",
    "import matplotlib.pyplot as plt\n",
    "import matplotlib\n",
    "\n",
    "import pyStats\n",
    "\n",
    "import xgboost as xgb\n",
    "from sklearn import datasets\n",
    "\n",
    "%jsroot on\n",
    "%matplotlib inline\n",
    "\n",
    "R.gInterpreter.ProcessLine('#include \"Analysis/AnalysisSelector.cpp\"')\n"
   ]
  },
  {
   "cell_type": "code",
   "execution_count": 3,
   "id": "b09d5357-8efe-4432-b104-31db8b4fe5b5",
   "metadata": {},
   "outputs": [],
   "source": [
    "# Preliminaries ensuring the plots aren't too small\n",
    "matplotlib.rcParams.update({'font.size': 20})\n",
    "fig_size = plt.rcParams[\"figure.figsize\"]\n",
    "fig_size[0] = 15\n",
    "fig_size[1] = 8\n",
    "plt.rcParams[\"figure.figsize\"] = fig_size"
   ]
  },
  {
   "cell_type": "code",
   "execution_count": 4,
   "id": "316b6b15-11ef-472f-a537-cf2080a8ef1e",
   "metadata": {},
   "outputs": [],
   "source": [
    "# Preliminaries ensuring the plots aren't too small\n",
    "# Yes, we have to do it twice... don't ask.\n",
    "matplotlib.rcParams.update({'font.size': 20})\n",
    "fig_size = plt.rcParams[\"figure.figsize\"]\n",
    "fig_size[0] = 15\n",
    "fig_size[1] = 8\n",
    "plt.rcParams[\"figure.figsize\"] = fig_size"
   ]
  },
  {
   "cell_type": "code",
   "execution_count": 5,
   "id": "ed1e105c-9253-4fb1-8776-5c54dfbb3e84",
   "metadata": {},
   "outputs": [],
   "source": [
    "opendatadir = \"/storage/shared/data/fys5555/ATLAS_opendata/\"\n",
    "analysis = \"4lep\""
   ]
  },
  {
   "cell_type": "code",
   "execution_count": 6,
   "id": "c07f96ff-f678-4fe7-a7b8-d3d80c4263e2",
   "metadata": {},
   "outputs": [
    {
     "name": "stdout",
     "output_type": "stream",
     "text": [
      "####################################################################################################\n",
      "SIGNAL SAMPLES\n",
      "####################################################################################################\n",
      "WARNING \t File for SlepSlep_direct_200p5_1p0_2L8 not found in /storage/shared/data/fys5555/ATLAS_opendata//4lep/MC\n",
      "WARNING \t File for SlepSlep_direct_100p5_1p0_2L8 not found in /storage/shared/data/fys5555/ATLAS_opendata//4lep/MC\n",
      "WARNING \t File for SlepSlep_direct_500p5_1p0_2L8 not found in /storage/shared/data/fys5555/ATLAS_opendata//4lep/MC\n",
      "WARNING \t File for SlepSlep_direct_300p5_1p0_2L8 not found in /storage/shared/data/fys5555/ATLAS_opendata//4lep/MC\n",
      "WARNING \t File for SlepSlep_direct_100p0_50p0_2L8 not found in /storage/shared/data/fys5555/ATLAS_opendata//4lep/MC\n",
      "WARNING \t File for SlepSlep_direct_500p0_100p0_2L8 not found in /storage/shared/data/fys5555/ATLAS_opendata//4lep/MC\n",
      "WARNING \t File for SlepSlep_direct_200p0_100p0_2L8 not found in /storage/shared/data/fys5555/ATLAS_opendata//4lep/MC\n",
      "WARNING \t File for SlepSlep_direct_300p0_200p0_2L8 not found in /storage/shared/data/fys5555/ATLAS_opendata//4lep/MC\n",
      "WARNING \t File for SlepSlep_direct_400p0_300p0_2L8 not found in /storage/shared/data/fys5555/ATLAS_opendata//4lep/MC\n",
      "WARNING \t File for SlepSlep_direct_500p0_300p0_2L8 not found in /storage/shared/data/fys5555/ATLAS_opendata//4lep/MC\n",
      "WARNING \t File for SlepSlep_direct_600p0_300p0_2L8 not found in /storage/shared/data/fys5555/ATLAS_opendata//4lep/MC\n",
      "WARNING \t File for SlepSlep_direct_600p0_1p0_2L8 not found in /storage/shared/data/fys5555/ATLAS_opendata//4lep/MC\n",
      "WARNING \t File for SlepSlep_direct_700p0_1p0_2L8 not found in /storage/shared/data/fys5555/ATLAS_opendata//4lep/MC\n",
      "WARNING \t File for SlepSlep_direct_700p0_300p0_2L8 not found in /storage/shared/data/fys5555/ATLAS_opendata//4lep/MC\n",
      "WARNING \t File for C1C1_SlepSnu_x0p50_300p0_100p0_2L8 not found in /storage/shared/data/fys5555/ATLAS_opendata//4lep/MC\n",
      "WARNING \t File for C1C1_SlepSnu_x0p50_200p0_150p0_2L8 not found in /storage/shared/data/fys5555/ATLAS_opendata//4lep/MC\n",
      "WARNING \t File for C1C1_SlepSnu_x0p50_200p0_100p0_2L8 not found in /storage/shared/data/fys5555/ATLAS_opendata//4lep/MC\n",
      "WARNING \t File for C1C1_SlepSnu_x0p50_400p0_300p0_2L8 not found in /storage/shared/data/fys5555/ATLAS_opendata//4lep/MC\n",
      "WARNING \t File for C1C1_SlepSnu_x0p50_400p0_100p0_2L8 not found in /storage/shared/data/fys5555/ATLAS_opendata//4lep/MC\n",
      "WARNING \t File for C1C1_SlepSnu_x0p50_300p0_250p0_2L8 not found in /storage/shared/data/fys5555/ATLAS_opendata//4lep/MC\n",
      "WARNING \t File for C1C1_SlepSnu_x0p50_600p0_300p0_2L8 not found in /storage/shared/data/fys5555/ATLAS_opendata//4lep/MC\n",
      "WARNING \t File for C1C1_SlepSnu_x0p50_500p0_300p0_2L8 not found in /storage/shared/data/fys5555/ATLAS_opendata//4lep/MC\n",
      "WARNING \t File for C1C1_SlepSnu_x0p50_700p0_1p0_2L8 not found in /storage/shared/data/fys5555/ATLAS_opendata//4lep/MC\n",
      "WARNING \t File for C1C1_SlepSnu_x0p50_700p0_300p0_2L8 not found in /storage/shared/data/fys5555/ATLAS_opendata//4lep/MC\n",
      "WARNING \t File for C1N2_WZ_350p0_0p0_3L_2L7 not found in /storage/shared/data/fys5555/ATLAS_opendata//4lep/MC\n",
      "WARNING \t File for C1N2_WZ_400p0_0p0_3L_2L7 not found in /storage/shared/data/fys5555/ATLAS_opendata//4lep/MC\n",
      "WARNING \t File for C1N2_WZ_100p0_0p0_3L_2L7 not found in /storage/shared/data/fys5555/ATLAS_opendata//4lep/MC\n",
      "WARNING \t File for C1N2_WZ_500p0_0p0_3L_2L7 not found in /storage/shared/data/fys5555/ATLAS_opendata//4lep/MC\n",
      "WARNING \t File for C1N2_WZ_500p0_100p0_2L2J_2L7 not found in /storage/shared/data/fys5555/ATLAS_opendata//4lep/MC\n",
      "WARNING \t File for C1N2_WZ_300p0_200p0_2L2J_2L7 not found in /storage/shared/data/fys5555/ATLAS_opendata//4lep/MC\n",
      "WARNING \t File for C1N2_WZ_300p0_100p0_2L2J_2L7 not found in /storage/shared/data/fys5555/ATLAS_opendata//4lep/MC\n",
      "WARNING \t File for C1N2_WZ_500p0_0p0_2L2J_2L7 not found in /storage/shared/data/fys5555/ATLAS_opendata//4lep/MC\n",
      "WARNING \t File for C1N2_WZ_400p0_0p0_2L2J_2L7 not found in /storage/shared/data/fys5555/ATLAS_opendata//4lep/MC\n",
      "WARNING \t File for C1N2_WZ_100p0_0p0_2L2J_2L7 not found in /storage/shared/data/fys5555/ATLAS_opendata//4lep/MC\n",
      "WARNING \t File for C1N2_WZ_400p0_300p0_2L2J_2L7 not found in /storage/shared/data/fys5555/ATLAS_opendata//4lep/MC\n",
      "WARNING \t File for C1N2_WZ_600_100_2L2J_2L7 not found in /storage/shared/data/fys5555/ATLAS_opendata//4lep/MC\n",
      "WARNING \t File for C1N2_WZ_500p0_300p0_2L2J_2L7 not found in /storage/shared/data/fys5555/ATLAS_opendata//4lep/MC\n",
      "WARNING \t File for C1N2_WZ_200p0_100p0_2L2J_2L7 not found in /storage/shared/data/fys5555/ATLAS_opendata//4lep/MC\n",
      "WARNING \t File for C1N2_WZ_700_0_2L2J_2L7 not found in /storage/shared/data/fys5555/ATLAS_opendata//4lep/MC\n",
      "WARNING \t File for C1N2_WZ_700_100_2L2J_2L7 not found in /storage/shared/data/fys5555/ATLAS_opendata//4lep/MC\n",
      "WARNING \t File for C1N2_WZ_700_400_2L2J_2L7 not found in /storage/shared/data/fys5555/ATLAS_opendata//4lep/MC\n",
      "WARNING \t File for C1N2_WZ_600_0_2L2J_2L7 not found in /storage/shared/data/fys5555/ATLAS_opendata//4lep/MC\n",
      "WARNING \t File for ZPrime5000_ee not found in /storage/shared/data/fys5555/ATLAS_opendata//4lep/MC\n",
      "WARNING \t File for ZPrime4000_ee not found in /storage/shared/data/fys5555/ATLAS_opendata//4lep/MC\n",
      "WARNING \t File for ZPrime4000_mumu not found in /storage/shared/data/fys5555/ATLAS_opendata//4lep/MC\n",
      "WARNING \t File for ZPrime750_tt not found in /storage/shared/data/fys5555/ATLAS_opendata//4lep/MC\n",
      "WARNING \t File for ZPrime5000_mumu not found in /storage/shared/data/fys5555/ATLAS_opendata//4lep/MC\n",
      "WARNING \t File for ZPrime2000_tt not found in /storage/shared/data/fys5555/ATLAS_opendata//4lep/MC\n",
      "WARNING \t File for ZPrime1750_tt not found in /storage/shared/data/fys5555/ATLAS_opendata//4lep/MC\n",
      "WARNING \t File for ZPrime1500_tt not found in /storage/shared/data/fys5555/ATLAS_opendata//4lep/MC\n",
      "WARNING \t File for ZPrime1250_tt not found in /storage/shared/data/fys5555/ATLAS_opendata//4lep/MC\n",
      "WARNING \t File for ZPrime1000_tt not found in /storage/shared/data/fys5555/ATLAS_opendata//4lep/MC\n",
      "WARNING \t File for ZPrime3000_tt not found in /storage/shared/data/fys5555/ATLAS_opendata//4lep/MC\n",
      "WARNING \t File for ZPrime2750_tt not found in /storage/shared/data/fys5555/ATLAS_opendata//4lep/MC\n",
      "WARNING \t File for ZPrime2500_tt not found in /storage/shared/data/fys5555/ATLAS_opendata//4lep/MC\n",
      "WARNING \t File for ZPrime2250_tt not found in /storage/shared/data/fys5555/ATLAS_opendata//4lep/MC\n",
      "WARNING \t File for dmV_Zll_MET40_DM1_MM10 not found in /storage/shared/data/fys5555/ATLAS_opendata//4lep/MC\n",
      "WARNING \t File for dmV_Zll_MET40_DM1_MM100 not found in /storage/shared/data/fys5555/ATLAS_opendata//4lep/MC\n",
      "WARNING \t File for dmV_Zll_MET40_DM1_MM2000 not found in /storage/shared/data/fys5555/ATLAS_opendata//4lep/MC\n",
      "WARNING \t File for dmV_Zll_MET40_DM1_MM300 not found in /storage/shared/data/fys5555/ATLAS_opendata//4lep/MC\n",
      "WARNING \t File for dmV_Zll_MET40_DM1_MM700 not found in /storage/shared/data/fys5555/ATLAS_opendata//4lep/MC\n",
      "WARNING \t File for dmV_Zll_MET40_DM1_MM500 not found in /storage/shared/data/fys5555/ATLAS_opendata//4lep/MC\n",
      "WARNING \t File for dmV_Zll_MET40_DM1_MM600 not found in /storage/shared/data/fys5555/ATLAS_opendata//4lep/MC\n",
      "WARNING \t File for dmV_Zll_MET40_DM1_MM400 not found in /storage/shared/data/fys5555/ATLAS_opendata//4lep/MC\n",
      "WARNING \t File for dmV_Zll_MET40_DM1_MM200 not found in /storage/shared/data/fys5555/ATLAS_opendata//4lep/MC\n",
      "WARNING \t File for dmV_Zll_MET40_DM1_MM800 not found in /storage/shared/data/fys5555/ATLAS_opendata//4lep/MC\n",
      "WARNING \t File for Gee_01_750 not found in /storage/shared/data/fys5555/ATLAS_opendata//4lep/MC\n",
      "WARNING \t File for Gmumu_01_750 not found in /storage/shared/data/fys5555/ATLAS_opendata//4lep/MC\n",
      "WARNING \t File for TT_directTT_500_1 not found in /storage/shared/data/fys5555/ATLAS_opendata//4lep/MC\n",
      "WARNING \t File for TT_directTT_500_200 not found in /storage/shared/data/fys5555/ATLAS_opendata//4lep/MC\n",
      "WARNING \t File for TT_directTT_600_1 not found in /storage/shared/data/fys5555/ATLAS_opendata//4lep/MC\n",
      "WARNING \t File for TT_directTT_450_1 not found in /storage/shared/data/fys5555/ATLAS_opendata//4lep/MC\n",
      "\n",
      "####################################################################################################\n",
      "BACKGROIUND SAMPLES\n",
      "####################################################################################################\n",
      "WARNING \t File for Ztautau_PTV1000_E_CMS not found in /storage/shared/data/fys5555/ATLAS_opendata//4lep/MC\n",
      "WARNING \t File for Wmunu_PTV0_70_BFilter not found in /storage/shared/data/fys5555/ATLAS_opendata//4lep/MC\n",
      "WARNING \t File for Wmunu_PTV500_1000 not found in /storage/shared/data/fys5555/ATLAS_opendata//4lep/MC\n",
      "WARNING \t File for Wmunu_PTV1000_E_CMS not found in /storage/shared/data/fys5555/ATLAS_opendata//4lep/MC\n",
      "WARNING \t File for Wenu_PTV0_70_BFilter not found in /storage/shared/data/fys5555/ATLAS_opendata//4lep/MC\n",
      "WARNING \t File for Wenu_PTV70_140_BFilter not found in /storage/shared/data/fys5555/ATLAS_opendata//4lep/MC\n",
      "WARNING \t File for Wenu_PTV500_1000 not found in /storage/shared/data/fys5555/ATLAS_opendata//4lep/MC\n",
      "WARNING \t File for Wenu_PTV1000_E_CMS not found in /storage/shared/data/fys5555/ATLAS_opendata//4lep/MC\n",
      "WARNING \t File for Wtaunu_PTV0_70_BFilter not found in /storage/shared/data/fys5555/ATLAS_opendata//4lep/MC\n",
      "WARNING \t File for Wtaunu_PTV500_1000 not found in /storage/shared/data/fys5555/ATLAS_opendata//4lep/MC\n",
      "WARNING \t File for Wtaunu_PTV1000_E_CMS not found in /storage/shared/data/fys5555/ATLAS_opendata//4lep/MC\n",
      "WARNING \t File for Wmunu_PTV0_70_CVetoBVeto not found in /storage/shared/data/fys5555/ATLAS_opendata//4lep/MC\n",
      "WARNING \t File for Wmunu_PTV0_70_CFilterBVeto not found in /storage/shared/data/fys5555/ATLAS_opendata//4lep/MC\n",
      "WARNING \t File for Wmunu_PTV70_140_CVetoBVeto not found in /storage/shared/data/fys5555/ATLAS_opendata//4lep/MC\n",
      "WARNING \t File for Wmunu_PTV70_140_CFilterBVeto not found in /storage/shared/data/fys5555/ATLAS_opendata//4lep/MC\n",
      "WARNING \t File for Wmunu_PTV70_140_BFilter not found in /storage/shared/data/fys5555/ATLAS_opendata//4lep/MC\n",
      "WARNING \t File for Wmunu_PTV140_280_CVetoBVeto not found in /storage/shared/data/fys5555/ATLAS_opendata//4lep/MC\n",
      "WARNING \t File for Wmunu_PTV140_280_CFilterBVeto not found in /storage/shared/data/fys5555/ATLAS_opendata//4lep/MC\n",
      "WARNING \t File for Wmunu_PTV140_280_BFilter not found in /storage/shared/data/fys5555/ATLAS_opendata//4lep/MC\n",
      "WARNING \t File for Wmunu_PTV280_500_CVetoBVeto not found in /storage/shared/data/fys5555/ATLAS_opendata//4lep/MC\n",
      "WARNING \t File for Wmunu_PTV280_500_CFilterBVeto not found in /storage/shared/data/fys5555/ATLAS_opendata//4lep/MC\n",
      "WARNING \t File for Wmunu_PTV280_500_BFilter not found in /storage/shared/data/fys5555/ATLAS_opendata//4lep/MC\n",
      "WARNING \t File for Wenu_PTV0_70_CVetoBVeto not found in /storage/shared/data/fys5555/ATLAS_opendata//4lep/MC\n",
      "WARNING \t File for Wenu_PTV0_70_CFilterBVeto not found in /storage/shared/data/fys5555/ATLAS_opendata//4lep/MC\n",
      "WARNING \t File for Wenu_PTV70_140_CVetoBVeto not found in /storage/shared/data/fys5555/ATLAS_opendata//4lep/MC\n",
      "WARNING \t File for Wenu_PTV70_140_CFilterBVeto not found in /storage/shared/data/fys5555/ATLAS_opendata//4lep/MC\n",
      "WARNING \t File for Wenu_PTV140_280_CVetoBVeto not found in /storage/shared/data/fys5555/ATLAS_opendata//4lep/MC\n",
      "WARNING \t File for Wenu_PTV140_280_CFilterBVeto not found in /storage/shared/data/fys5555/ATLAS_opendata//4lep/MC\n",
      "WARNING \t File for Wenu_PTV140_280_BFilter not found in /storage/shared/data/fys5555/ATLAS_opendata//4lep/MC\n",
      "WARNING \t File for Wenu_PTV280_500_CVetoBVeto not found in /storage/shared/data/fys5555/ATLAS_opendata//4lep/MC\n",
      "WARNING \t File for Wenu_PTV280_500_CFilterBVeto not found in /storage/shared/data/fys5555/ATLAS_opendata//4lep/MC\n",
      "WARNING \t File for Wenu_PTV280_500_BFilter not found in /storage/shared/data/fys5555/ATLAS_opendata//4lep/MC\n",
      "WARNING \t File for Wtaunu_PTV0_70_CVetoBVeto not found in /storage/shared/data/fys5555/ATLAS_opendata//4lep/MC\n",
      "WARNING \t File for Wtaunu_PTV0_70_CFilterBVeto not found in /storage/shared/data/fys5555/ATLAS_opendata//4lep/MC\n",
      "WARNING \t File for Wtaunu_PTV70_140_CVetoBVeto not found in /storage/shared/data/fys5555/ATLAS_opendata//4lep/MC\n",
      "WARNING \t File for Wtaunu_PTV70_140_CFilterBVeto not found in /storage/shared/data/fys5555/ATLAS_opendata//4lep/MC\n",
      "WARNING \t File for Wtaunu_PTV70_140_BFilter not found in /storage/shared/data/fys5555/ATLAS_opendata//4lep/MC\n",
      "WARNING \t File for Wtaunu_PTV140_280_CVetoBVeto not found in /storage/shared/data/fys5555/ATLAS_opendata//4lep/MC\n",
      "WARNING \t File for Wtaunu_PTV140_280_CFilterBVeto not found in /storage/shared/data/fys5555/ATLAS_opendata//4lep/MC\n",
      "WARNING \t File for Wtaunu_PTV140_280_BFilter not found in /storage/shared/data/fys5555/ATLAS_opendata//4lep/MC\n",
      "WARNING \t File for Wtaunu_PTV280_500_CVetoBVeto not found in /storage/shared/data/fys5555/ATLAS_opendata//4lep/MC\n",
      "WARNING \t File for Wtaunu_PTV280_500_CFilterBVeto not found in /storage/shared/data/fys5555/ATLAS_opendata//4lep/MC\n",
      "WARNING \t File for Wtaunu_PTV280_500_BFilter not found in /storage/shared/data/fys5555/ATLAS_opendata//4lep/MC\n",
      "WARNING \t File for ggH125_tautaulh not found in /storage/shared/data/fys5555/ATLAS_opendata//4lep/MC\n",
      "WARNING \t File for VBFH125_tautaulh not found in /storage/shared/data/fys5555/ATLAS_opendata//4lep/MC\n",
      "WARNING \t File for ttH125_gamgam not found in /storage/shared/data/fys5555/ATLAS_opendata//4lep/MC\n",
      "WARNING \t File for ggH125_gamgam not found in /storage/shared/data/fys5555/ATLAS_opendata//4lep/MC\n",
      "WARNING \t File for VBFH125_gamgam not found in /storage/shared/data/fys5555/ATLAS_opendata//4lep/MC\n",
      "WARNING \t File for WpH125J_Wincl_gamgam not found in /storage/shared/data/fys5555/ATLAS_opendata//4lep/MC\n",
      "WARNING \t File for ZH125J_Zincl_gamgam not found in /storage/shared/data/fys5555/ATLAS_opendata//4lep/MC\n",
      "\n",
      "###############################\n",
      "#### Background categories ####\n",
      "###############################\n",
      "Category             N(samples)\n",
      "-------------------------------\n",
      "Diboson                      10\n",
      "Higgs                        20\n",
      "Wjets                        42\n",
      "Wjetsincl                     6\n",
      "Zjets                        42\n",
      "Zjetsincl                     3\n",
      "singleTop                     6\n",
      "topX                          3\n",
      "ttbar                         1\n"
     ]
    }
   ],
   "source": [
    "# Manipulate the simulated Monte Carlo data and choose which background and signal samples you want to use\n",
    "mcfiles = initialize(opendatadir+\"/\"+analysis+\"/MC\")\n",
    "datafiles = initialize(opendatadir+\"/\"+analysis+\"/Data\")\n",
    "allfiles = z = {**mcfiles, **datafiles}\n",
    "Backgrounds = getBkgCategories()\n",
    "\n",
    "Backgrounds.remove('Zjets')\n",
    "Backgrounds.remove('Wjets')\n",
    "Backgrounds.remove('Wjetsincl')\n",
    "\n",
    "signal = 'Higgs'\n"
   ]
  },
  {
   "cell_type": "code",
   "execution_count": 7,
   "id": "d0236d02-421e-48ae-8557-adf4e157e8e3",
   "metadata": {},
   "outputs": [],
   "source": [
    "files = []\n",
    "for Category in Backgrounds:\n",
    "    Type = mcfiles[Category]['type']\n",
    "    for File in mcfiles[Category]['files']:\n",
    "        files.append(File)\n",
    "        \n",
    "for File in datafiles['data']['files']:\n",
    "    files.append(File)"
   ]
  },
  {
   "cell_type": "code",
   "execution_count": 8,
   "id": "fce04d6c-a6fe-4832-8254-712c4e3240ee",
   "metadata": {},
   "outputs": [],
   "source": [
    "chain = R.TChain('mini') \n",
    "\n",
    "for File in files:\n",
    "        chain.Add(File) "
   ]
  },
  {
   "cell_type": "code",
   "execution_count": 9,
   "id": "e2862693-6161-43c7-b8a6-4d42b7c4db60",
   "metadata": {},
   "outputs": [],
   "source": [
    "if not os.path.exists('./Histograms'):\n",
    "    os.makedirs('./Histograms')\n",
    "if not os.path.exists('./Histograms/MC/'):\n",
    "    os.makedirs('./Histograms/MC')\n",
    "if not os.path.exists('./Histograms/Data/'):\n",
    "    os.makedirs('./Histograms/Data')"
   ]
  },
  {
   "cell_type": "code",
   "execution_count": 10,
   "id": "2875b97a-aab5-4eb8-aad3-ead5c19cd3cd",
   "metadata": {},
   "outputs": [
    {
     "name": "stderr",
     "output_type": "stream",
     "text": [
      "Info in <TUnixSystem::ACLiC>: creating shared library /storage/galaxy/jobs_directory/005/5239/working/jupyter/project3/./Analysis/HZZAnalysis_C.so\n"
     ]
    }
   ],
   "source": [
    "selection = R.AnalysisSelector(chain, analysis)"
   ]
  },
  {
   "cell_type": "markdown",
   "id": "d7cb2beb-f70b-416f-8138-0b7711e4f991",
   "metadata": {},
   "source": [
    "Process the chains for both the Monte Carlo and Data at the same time, the relevant histograms and features for machine learning can be aquired by calling the TChain Process class from the SelectorProxy class via the Selector function\n",
    "\n",
    "- R.SelectorProxy().Selector().\"function\"\n",
    "\n",
    "The relevant functions are\n",
    "\n",
    "- .GetHistogram((string) Category)"
   ]
  },
  {
   "cell_type": "code",
   "execution_count": 11,
   "id": "da683b5d-afe9-4782-8800-f180696cd313",
   "metadata": {},
   "outputs": [
    {
     "name": "stdout",
     "output_type": "stream",
     "text": [
      "CPU times: user 16 s, sys: 408 ms, total: 16.4 s\n",
      "Wall time: 16.7 s\n",
      "-------------------------------------------\n",
      "Processing MC and Data\n",
      "Number of events to process: 1596789\n",
      "-------------------------------------------\n",
      "Total number of processed events: 1596789\n",
      "Number of selected events: 1078230\n",
      "Number of jets: 872768\n"
     ]
    },
    {
     "name": "stderr",
     "output_type": "stream",
     "text": [
      "Warning in <TROOT::Append>: Replacing existing TH1: h_mllll (Potential memory leak).\n",
      "Warning in <TROOT::Append>: Replacing existing TH1: h_meeee (Potential memory leak).\n",
      "Warning in <TROOT::Append>: Replacing existing TH1: h_muuuu (Potential memory leak).\n",
      "Warning in <TROOT::Append>: Replacing existing TH1: h_meeuu (Potential memory leak).\n",
      "Warning in <TROOT::Append>: Replacing existing TH1: h_mllll (Potential memory leak).\n",
      "Warning in <TROOT::Append>: Replacing existing TH1: h_meeee (Potential memory leak).\n",
      "Warning in <TROOT::Append>: Replacing existing TH1: h_muuuu (Potential memory leak).\n",
      "Warning in <TROOT::Append>: Replacing existing TH1: h_meeuu (Potential memory leak).\n",
      "Warning in <TROOT::Append>: Replacing existing TH1: h_mllll (Potential memory leak).\n",
      "Warning in <TROOT::Append>: Replacing existing TH1: h_meeee (Potential memory leak).\n",
      "Warning in <TROOT::Append>: Replacing existing TH1: h_muuuu (Potential memory leak).\n",
      "Warning in <TROOT::Append>: Replacing existing TH1: h_meeuu (Potential memory leak).\n",
      "Warning in <TROOT::Append>: Replacing existing TH1: h_mllll (Potential memory leak).\n",
      "Warning in <TROOT::Append>: Replacing existing TH1: h_meeee (Potential memory leak).\n",
      "Warning in <TROOT::Append>: Replacing existing TH1: h_muuuu (Potential memory leak).\n",
      "Warning in <TROOT::Append>: Replacing existing TH1: h_meeuu (Potential memory leak).\n",
      "Warning in <TROOT::Append>: Replacing existing TH1: h_mllll (Potential memory leak).\n",
      "Warning in <TROOT::Append>: Replacing existing TH1: h_meeee (Potential memory leak).\n",
      "Warning in <TROOT::Append>: Replacing existing TH1: h_muuuu (Potential memory leak).\n",
      "Warning in <TROOT::Append>: Replacing existing TH1: h_meeuu (Potential memory leak).\n",
      "Warning in <TROOT::Append>: Replacing existing TH1: h_mllll (Potential memory leak).\n",
      "Warning in <TROOT::Append>: Replacing existing TH1: h_meeee (Potential memory leak).\n",
      "Warning in <TROOT::Append>: Replacing existing TH1: h_muuuu (Potential memory leak).\n",
      "Warning in <TROOT::Append>: Replacing existing TH1: h_meeuu (Potential memory leak).\n",
      "Warning in <TROOT::Append>: Replacing existing TH1: h_mllll (Potential memory leak).\n",
      "Warning in <TROOT::Append>: Replacing existing TH1: h_meeee (Potential memory leak).\n",
      "Warning in <TROOT::Append>: Replacing existing TH1: h_muuuu (Potential memory leak).\n",
      "Warning in <TROOT::Append>: Replacing existing TH1: h_meeuu (Potential memory leak).\n",
      "Warning in <TROOT::Append>: Replacing existing TH1: h_mllll (Potential memory leak).\n",
      "Warning in <TROOT::Append>: Replacing existing TH1: h_meeee (Potential memory leak).\n",
      "Warning in <TROOT::Append>: Replacing existing TH1: h_muuuu (Potential memory leak).\n",
      "Warning in <TROOT::Append>: Replacing existing TH1: h_meeuu (Potential memory leak).\n"
     ]
    }
   ],
   "source": [
    "%%time\n",
    "\n",
    "selection.Process(signal)"
   ]
  },
  {
   "cell_type": "code",
   "execution_count": 12,
   "id": "fff8098e-f61c-4b07-96d8-ae2f62c1d1ca",
   "metadata": {},
   "outputs": [],
   "source": [
    "# Get the features from the processed Selector class\n",
    "tree = selection.Selector().GetTree()\n",
    "\n",
    "# convert the tree into a RDataFrame object\n",
    "df = R.RDataFrame(tree)\n",
    "\n",
    "# Then convert that into a pandas dataframe\n",
    "df = pd.DataFrame(df.AsNumpy(0))"
   ]
  },
  {
   "cell_type": "code",
   "execution_count": 13,
   "id": "185e78ae-34f2-43aa-a065-a12b27202594",
   "metadata": {},
   "outputs": [
    {
     "data": {
      "text/html": [
       "<div>\n",
       "<style scoped>\n",
       "    .dataframe tbody tr th:only-of-type {\n",
       "        vertical-align: middle;\n",
       "    }\n",
       "\n",
       "    .dataframe tbody tr th {\n",
       "        vertical-align: top;\n",
       "    }\n",
       "\n",
       "    .dataframe thead th {\n",
       "        text-align: right;\n",
       "    }\n",
       "</style>\n",
       "<table border=\"1\" class=\"dataframe\">\n",
       "  <thead>\n",
       "    <tr style=\"text-align: right;\">\n",
       "      <th></th>\n",
       "      <th>eventID</th>\n",
       "      <th>n_el</th>\n",
       "      <th>n_mu</th>\n",
       "      <th>n_jet</th>\n",
       "      <th>weight</th>\n",
       "      <th>lep1_pt</th>\n",
       "      <th>lep2_pt</th>\n",
       "      <th>lep3_pt</th>\n",
       "      <th>lep4_pt</th>\n",
       "      <th>lep1_eta</th>\n",
       "      <th>...</th>\n",
       "      <th>jet1_phi</th>\n",
       "      <th>jet2_phi</th>\n",
       "      <th>jet3_phi</th>\n",
       "      <th>jet4_phi</th>\n",
       "      <th>ev_mll</th>\n",
       "      <th>ev_mllll</th>\n",
       "      <th>met_pt</th>\n",
       "      <th>met_phi</th>\n",
       "      <th>ev_mt2</th>\n",
       "      <th>label</th>\n",
       "    </tr>\n",
       "  </thead>\n",
       "  <tbody>\n",
       "    <tr>\n",
       "      <th>0</th>\n",
       "      <td>8158504</td>\n",
       "      <td>2</td>\n",
       "      <td>2</td>\n",
       "      <td>1</td>\n",
       "      <td>0.000000</td>\n",
       "      <td>64876.386719</td>\n",
       "      <td>57577.941406</td>\n",
       "      <td>35902.539062</td>\n",
       "      <td>14581.375977</td>\n",
       "      <td>-1.847720</td>\n",
       "      <td>...</td>\n",
       "      <td>-999.0</td>\n",
       "      <td>-999.0</td>\n",
       "      <td>-999.0</td>\n",
       "      <td>-999.0</td>\n",
       "      <td>113565.105321</td>\n",
       "      <td>177395.987400</td>\n",
       "      <td>20816.824219</td>\n",
       "      <td>0.842615</td>\n",
       "      <td>117.867769</td>\n",
       "      <td>0</td>\n",
       "    </tr>\n",
       "    <tr>\n",
       "      <th>1</th>\n",
       "      <td>8451177</td>\n",
       "      <td>4</td>\n",
       "      <td>0</td>\n",
       "      <td>2</td>\n",
       "      <td>0.000087</td>\n",
       "      <td>69307.593750</td>\n",
       "      <td>57635.121094</td>\n",
       "      <td>32546.634766</td>\n",
       "      <td>9067.855469</td>\n",
       "      <td>-0.364002</td>\n",
       "      <td>...</td>\n",
       "      <td>-999.0</td>\n",
       "      <td>-999.0</td>\n",
       "      <td>-999.0</td>\n",
       "      <td>-999.0</td>\n",
       "      <td>196434.720234</td>\n",
       "      <td>246540.602532</td>\n",
       "      <td>14343.721680</td>\n",
       "      <td>-1.301261</td>\n",
       "      <td>3848.478300</td>\n",
       "      <td>0</td>\n",
       "    </tr>\n",
       "    <tr>\n",
       "      <th>2</th>\n",
       "      <td>106992</td>\n",
       "      <td>2</td>\n",
       "      <td>2</td>\n",
       "      <td>1</td>\n",
       "      <td>0.000071</td>\n",
       "      <td>169229.171875</td>\n",
       "      <td>58085.476562</td>\n",
       "      <td>31036.222656</td>\n",
       "      <td>7081.755371</td>\n",
       "      <td>-0.863307</td>\n",
       "      <td>...</td>\n",
       "      <td>-999.0</td>\n",
       "      <td>-999.0</td>\n",
       "      <td>-999.0</td>\n",
       "      <td>-999.0</td>\n",
       "      <td>91070.756710</td>\n",
       "      <td>125086.863596</td>\n",
       "      <td>34525.132812</td>\n",
       "      <td>3.129848</td>\n",
       "      <td>34660.938658</td>\n",
       "      <td>1</td>\n",
       "    </tr>\n",
       "    <tr>\n",
       "      <th>3</th>\n",
       "      <td>14340608</td>\n",
       "      <td>4</td>\n",
       "      <td>0</td>\n",
       "      <td>1</td>\n",
       "      <td>0.000177</td>\n",
       "      <td>105243.382812</td>\n",
       "      <td>52842.367188</td>\n",
       "      <td>43608.347656</td>\n",
       "      <td>15285.817383</td>\n",
       "      <td>0.224163</td>\n",
       "      <td>...</td>\n",
       "      <td>-999.0</td>\n",
       "      <td>-999.0</td>\n",
       "      <td>-999.0</td>\n",
       "      <td>-999.0</td>\n",
       "      <td>103968.536944</td>\n",
       "      <td>224605.991255</td>\n",
       "      <td>25049.833984</td>\n",
       "      <td>-1.204110</td>\n",
       "      <td>33513.748963</td>\n",
       "      <td>0</td>\n",
       "    </tr>\n",
       "    <tr>\n",
       "      <th>4</th>\n",
       "      <td>12962213</td>\n",
       "      <td>0</td>\n",
       "      <td>4</td>\n",
       "      <td>0</td>\n",
       "      <td>0.001622</td>\n",
       "      <td>148796.015625</td>\n",
       "      <td>98889.093750</td>\n",
       "      <td>95281.085938</td>\n",
       "      <td>43816.097656</td>\n",
       "      <td>-0.825962</td>\n",
       "      <td>...</td>\n",
       "      <td>-999.0</td>\n",
       "      <td>-999.0</td>\n",
       "      <td>-999.0</td>\n",
       "      <td>-999.0</td>\n",
       "      <td>289847.987734</td>\n",
       "      <td>529337.360488</td>\n",
       "      <td>4484.546875</td>\n",
       "      <td>-1.744160</td>\n",
       "      <td>6356.118688</td>\n",
       "      <td>0</td>\n",
       "    </tr>\n",
       "    <tr>\n",
       "      <th>...</th>\n",
       "      <td>...</td>\n",
       "      <td>...</td>\n",
       "      <td>...</td>\n",
       "      <td>...</td>\n",
       "      <td>...</td>\n",
       "      <td>...</td>\n",
       "      <td>...</td>\n",
       "      <td>...</td>\n",
       "      <td>...</td>\n",
       "      <td>...</td>\n",
       "      <td>...</td>\n",
       "      <td>...</td>\n",
       "      <td>...</td>\n",
       "      <td>...</td>\n",
       "      <td>...</td>\n",
       "      <td>...</td>\n",
       "      <td>...</td>\n",
       "      <td>...</td>\n",
       "      <td>...</td>\n",
       "      <td>...</td>\n",
       "      <td>...</td>\n",
       "    </tr>\n",
       "    <tr>\n",
       "      <th>1077946</th>\n",
       "      <td>5488316</td>\n",
       "      <td>2</td>\n",
       "      <td>2</td>\n",
       "      <td>0</td>\n",
       "      <td>0.001646</td>\n",
       "      <td>47362.746094</td>\n",
       "      <td>44606.742188</td>\n",
       "      <td>33386.921875</td>\n",
       "      <td>26888.240234</td>\n",
       "      <td>-0.530106</td>\n",
       "      <td>...</td>\n",
       "      <td>-999.0</td>\n",
       "      <td>-999.0</td>\n",
       "      <td>-999.0</td>\n",
       "      <td>-999.0</td>\n",
       "      <td>85377.593326</td>\n",
       "      <td>180802.819250</td>\n",
       "      <td>13166.817383</td>\n",
       "      <td>-2.090909</td>\n",
       "      <td>11935.784783</td>\n",
       "      <td>0</td>\n",
       "    </tr>\n",
       "    <tr>\n",
       "      <th>1077947</th>\n",
       "      <td>10863447</td>\n",
       "      <td>0</td>\n",
       "      <td>4</td>\n",
       "      <td>0</td>\n",
       "      <td>0.001823</td>\n",
       "      <td>61202.042969</td>\n",
       "      <td>34026.054688</td>\n",
       "      <td>28770.476562</td>\n",
       "      <td>20253.580078</td>\n",
       "      <td>-1.108482</td>\n",
       "      <td>...</td>\n",
       "      <td>-999.0</td>\n",
       "      <td>-999.0</td>\n",
       "      <td>-999.0</td>\n",
       "      <td>-999.0</td>\n",
       "      <td>82321.834694</td>\n",
       "      <td>153732.215595</td>\n",
       "      <td>11819.821289</td>\n",
       "      <td>3.003888</td>\n",
       "      <td>13891.046094</td>\n",
       "      <td>0</td>\n",
       "    </tr>\n",
       "    <tr>\n",
       "      <th>1077948</th>\n",
       "      <td>10294021</td>\n",
       "      <td>4</td>\n",
       "      <td>0</td>\n",
       "      <td>2</td>\n",
       "      <td>0.000178</td>\n",
       "      <td>213107.156250</td>\n",
       "      <td>149820.468750</td>\n",
       "      <td>47749.855469</td>\n",
       "      <td>21760.830078</td>\n",
       "      <td>-2.208004</td>\n",
       "      <td>...</td>\n",
       "      <td>-999.0</td>\n",
       "      <td>-999.0</td>\n",
       "      <td>-999.0</td>\n",
       "      <td>-999.0</td>\n",
       "      <td>354745.111921</td>\n",
       "      <td>447970.066850</td>\n",
       "      <td>8069.622559</td>\n",
       "      <td>2.086590</td>\n",
       "      <td>0.598320</td>\n",
       "      <td>0</td>\n",
       "    </tr>\n",
       "    <tr>\n",
       "      <th>1077949</th>\n",
       "      <td>5220828</td>\n",
       "      <td>0</td>\n",
       "      <td>4</td>\n",
       "      <td>2</td>\n",
       "      <td>0.000373</td>\n",
       "      <td>59019.578125</td>\n",
       "      <td>55933.921875</td>\n",
       "      <td>52506.164062</td>\n",
       "      <td>48990.507812</td>\n",
       "      <td>-0.917565</td>\n",
       "      <td>...</td>\n",
       "      <td>-999.0</td>\n",
       "      <td>-999.0</td>\n",
       "      <td>-999.0</td>\n",
       "      <td>-999.0</td>\n",
       "      <td>63253.421756</td>\n",
       "      <td>220679.940767</td>\n",
       "      <td>22377.750000</td>\n",
       "      <td>-0.476916</td>\n",
       "      <td>44379.353574</td>\n",
       "      <td>0</td>\n",
       "    </tr>\n",
       "    <tr>\n",
       "      <th>1077950</th>\n",
       "      <td>785115</td>\n",
       "      <td>2</td>\n",
       "      <td>2</td>\n",
       "      <td>1</td>\n",
       "      <td>0.000203</td>\n",
       "      <td>86390.507812</td>\n",
       "      <td>83484.585938</td>\n",
       "      <td>22694.591797</td>\n",
       "      <td>17258.949219</td>\n",
       "      <td>1.698049</td>\n",
       "      <td>...</td>\n",
       "      <td>-999.0</td>\n",
       "      <td>-999.0</td>\n",
       "      <td>-999.0</td>\n",
       "      <td>-999.0</td>\n",
       "      <td>441032.896715</td>\n",
       "      <td>487941.825912</td>\n",
       "      <td>16676.291016</td>\n",
       "      <td>-1.349951</td>\n",
       "      <td>15429.368865</td>\n",
       "      <td>0</td>\n",
       "    </tr>\n",
       "  </tbody>\n",
       "</table>\n",
       "<p>1077951 rows × 47 columns</p>\n",
       "</div>"
      ],
      "text/plain": [
       "          eventID  n_el  n_mu  n_jet    weight        lep1_pt        lep2_pt  \\\n",
       "0         8158504     2     2      1  0.000000   64876.386719   57577.941406   \n",
       "1         8451177     4     0      2  0.000087   69307.593750   57635.121094   \n",
       "2          106992     2     2      1  0.000071  169229.171875   58085.476562   \n",
       "3        14340608     4     0      1  0.000177  105243.382812   52842.367188   \n",
       "4        12962213     0     4      0  0.001622  148796.015625   98889.093750   \n",
       "...           ...   ...   ...    ...       ...            ...            ...   \n",
       "1077946   5488316     2     2      0  0.001646   47362.746094   44606.742188   \n",
       "1077947  10863447     0     4      0  0.001823   61202.042969   34026.054688   \n",
       "1077948  10294021     4     0      2  0.000178  213107.156250  149820.468750   \n",
       "1077949   5220828     0     4      2  0.000373   59019.578125   55933.921875   \n",
       "1077950    785115     2     2      1  0.000203   86390.507812   83484.585938   \n",
       "\n",
       "              lep3_pt       lep4_pt  lep1_eta  ...  jet1_phi  jet2_phi  \\\n",
       "0        35902.539062  14581.375977 -1.847720  ...    -999.0    -999.0   \n",
       "1        32546.634766   9067.855469 -0.364002  ...    -999.0    -999.0   \n",
       "2        31036.222656   7081.755371 -0.863307  ...    -999.0    -999.0   \n",
       "3        43608.347656  15285.817383  0.224163  ...    -999.0    -999.0   \n",
       "4        95281.085938  43816.097656 -0.825962  ...    -999.0    -999.0   \n",
       "...               ...           ...       ...  ...       ...       ...   \n",
       "1077946  33386.921875  26888.240234 -0.530106  ...    -999.0    -999.0   \n",
       "1077947  28770.476562  20253.580078 -1.108482  ...    -999.0    -999.0   \n",
       "1077948  47749.855469  21760.830078 -2.208004  ...    -999.0    -999.0   \n",
       "1077949  52506.164062  48990.507812 -0.917565  ...    -999.0    -999.0   \n",
       "1077950  22694.591797  17258.949219  1.698049  ...    -999.0    -999.0   \n",
       "\n",
       "         jet3_phi  jet4_phi         ev_mll       ev_mllll        met_pt  \\\n",
       "0          -999.0    -999.0  113565.105321  177395.987400  20816.824219   \n",
       "1          -999.0    -999.0  196434.720234  246540.602532  14343.721680   \n",
       "2          -999.0    -999.0   91070.756710  125086.863596  34525.132812   \n",
       "3          -999.0    -999.0  103968.536944  224605.991255  25049.833984   \n",
       "4          -999.0    -999.0  289847.987734  529337.360488   4484.546875   \n",
       "...           ...       ...            ...            ...           ...   \n",
       "1077946    -999.0    -999.0   85377.593326  180802.819250  13166.817383   \n",
       "1077947    -999.0    -999.0   82321.834694  153732.215595  11819.821289   \n",
       "1077948    -999.0    -999.0  354745.111921  447970.066850   8069.622559   \n",
       "1077949    -999.0    -999.0   63253.421756  220679.940767  22377.750000   \n",
       "1077950    -999.0    -999.0  441032.896715  487941.825912  16676.291016   \n",
       "\n",
       "          met_phi        ev_mt2  label  \n",
       "0        0.842615    117.867769      0  \n",
       "1       -1.301261   3848.478300      0  \n",
       "2        3.129848  34660.938658      1  \n",
       "3       -1.204110  33513.748963      0  \n",
       "4       -1.744160   6356.118688      0  \n",
       "...           ...           ...    ...  \n",
       "1077946 -2.090909  11935.784783      0  \n",
       "1077947  3.003888  13891.046094      0  \n",
       "1077948  2.086590      0.598320      0  \n",
       "1077949 -0.476916  44379.353574      0  \n",
       "1077950 -1.349951  15429.368865      0  \n",
       "\n",
       "[1077951 rows x 47 columns]"
      ]
     },
     "execution_count": 13,
     "metadata": {},
     "output_type": "execute_result"
    }
   ],
   "source": [
    "# Shuffle the dataframe too randomize the position of each process\n",
    "df = df.sample(frac=1).reset_index(drop=True)\n",
    "\n",
    "df"
   ]
  },
  {
   "cell_type": "code",
   "execution_count": 14,
   "id": "90ffea0b-7496-44d7-88d6-21fe7c281eee",
   "metadata": {},
   "outputs": [],
   "source": [
    "# Rescaling of weights and make sure all weights are positive\n",
    "\n",
    "weights = df.weight\n",
    "\n",
    "weights = np.abs(weights)*np.sum(weights)/np.sum(np.abs(weights))\n"
   ]
  },
  {
   "cell_type": "code",
   "execution_count": 15,
   "id": "35a623cf-1b7d-4af1-9321-362ad375b9e8",
   "metadata": {},
   "outputs": [],
   "source": [
    "# Set the size of each portion of data\n",
    "test_size = 200000\n",
    "# Convert to numpy arrays (input)\n",
    "# Separate into data, weights, target\n",
    "Y = np.array(df.label)\n",
    "X = np.array(df.drop([\"label\", \"weight\", \"eventID\"],axis=1)) # Remove variables that should NOT be trained on\n",
    "W = np.array(weights) * float(test_size) / len(Y) # Ensure the weights are scaled to the size of the test portion"
   ]
  },
  {
   "cell_type": "code",
   "execution_count": 16,
   "id": "5f2d7112-acc3-4dad-9958-b0ec81b13b6d",
   "metadata": {},
   "outputs": [],
   "source": [
    "# Build training, validation & evaluation samples (test_size events for each of signal and background per sample)\n",
    "size = test_size\n",
    "X_train = np.concatenate((X[Y==0][0:size],X[Y==1][0:size]), axis=0)\n",
    "w_train = np.concatenate((W[Y==0][0:size],W[Y==1][0:size]), axis=0)\n",
    "y_train = np.concatenate((Y[Y==0][0:size],Y[Y==1][0:size]), axis=0)\n",
    "X_valid = np.concatenate((X[Y==0][size:size*2],X[Y==1][size:size*2]), axis=0)\n",
    "y_valid = np.concatenate((Y[Y==0][size:size*2],Y[Y==1][size:size*2]), axis=0)\n",
    "X_eval = np.concatenate((X[Y==0][size*2:size*3],X[Y==1][size*2:size*3]), axis=0)\n",
    "y_eval = np.concatenate((Y[Y==0][size*2:size*3],Y[Y==1][size*2:size*3]), axis=0)\n",
    "# Get the sums of the weights for signal and background events \n",
    "sum_wsig = sum( w_train[i] for i in range(len(y_train)) if y_train[i] == 1.0  )\n",
    "sum_wbkg = sum( w_train[i] for i in range(len(y_train)) if y_train[i] == 0.0  )"
   ]
  },
  {
   "cell_type": "code",
   "execution_count": 17,
   "id": "402dfc22-10de-4ce3-9dab-0704f3336e4c",
   "metadata": {},
   "outputs": [
    {
     "name": "stderr",
     "output_type": "stream",
     "text": [
      "/usr/local/lib/python3.8/dist-packages/xgboost/sklearn.py:1224: UserWarning: The use of label encoder in XGBClassifier is deprecated and will be removed in a future release. To remove this warning, do the following: 1) Pass option use_label_encoder=False when constructing XGBClassifier object; and 2) Encode your labels (y) as integers starting with 0, i.e. 0, 1, 2, ..., [num_class - 1].\n",
      "  warnings.warn(label_encoder_deprecation_msg, UserWarning)\n"
     ]
    },
    {
     "name": "stdout",
     "output_type": "stream",
     "text": [
      "[19:04:21] WARNING: ../src/learner.cc:1115: Starting in XGBoost 1.3.0, the default evaluation metric used with the objective 'binary:logistic' was changed from 'error' to 'logloss'. Explicitly set eval_metric if you'd like to restore the old behavior.\n",
      "CPU times: user 2min 37s, sys: 511 ms, total: 2min 37s\n",
      "Wall time: 2min 38s\n"
     ]
    },
    {
     "data": {
      "text/plain": [
       "XGBClassifier(base_score=0.5, booster='gbtree', colsample_bylevel=1,\n",
       "              colsample_bynode=1, colsample_bytree=1, enable_categorical=False,\n",
       "              gamma=0, gpu_id=-1, importance_type=None,\n",
       "              interaction_constraints='', learning_rate=0.1, max_delta_step=0,\n",
       "              max_depth=6, min_child_weight=1, missing=-999.0,\n",
       "              monotone_constraints='()', n_estimators=200, n_jobs=4,\n",
       "              num_parallel_tree=1, predictor='auto', random_state=0,\n",
       "              reg_alpha=0, reg_lambda=1, scale_pos_weight=9.538043396658695,\n",
       "              subsample=1, tree_method='exact', validate_parameters=1,\n",
       "              verbosity=None)"
      ]
     },
     "execution_count": 17,
     "metadata": {},
     "output_type": "execute_result"
    }
   ],
   "source": [
    "%%time\n",
    "\n",
    "# Set up the BDT classifier\n",
    "xgbclassifier = xgb.XGBClassifier(\n",
    "    max_depth=6,\n",
    "    n_estimators=200,\n",
    "    learning_rate=0.1,\n",
    "    n_jobs=4,\n",
    "    scale_pos_weight=sum_wbkg/sum_wsig,\n",
    "    objective='binary:logistic',\n",
    "    missing=-999.0,) \n",
    "\n",
    "xgbclassifier.fit(X_train,y_train, sample_weight=w_train) "
   ]
  },
  {
   "cell_type": "code",
   "execution_count": 18,
   "id": "1f4c77e1-d3e5-4edc-8ab2-852c3b03b790",
   "metadata": {},
   "outputs": [],
   "source": [
    "# Test the BDT performance using the validation dataset\n",
    "y_pred = xgbclassifier.predict( X_valid ) # The actual signal/background predictions. Note that we don't actually use them\n",
    "y_pred_prob = xgbclassifier.predict_proba( X_valid ) # The BDT outputs for each event"
   ]
  },
  {
   "cell_type": "code",
   "execution_count": 19,
   "id": "c3d7b08c-c6d4-46ea-8ef9-4b889065e737",
   "metadata": {},
   "outputs": [
    {
     "data": {
      "image/png": "[encoded data removed]",
      "text/plain": [
       "<Figure size 1080x576 with 1 Axes>"
      ]
     },
     "metadata": {
      "needs_background": "light"
     },
     "output_type": "display_data"
    },
    {
     "data": {
      "text/plain": [
       "<Figure size 1080x576 with 0 Axes>"
      ]
     },
     "metadata": {},
     "output_type": "display_data"
    }
   ],
   "source": [
    "#  histogram of the BDT outputs\n",
    "nb, bins, patches = plt.hist(y_pred_prob[:,1][y_valid==0], 200, facecolor='blue', alpha=0.2,label=\"Background\")\n",
    "ns, bins, patches = plt.hist(y_pred_prob[:,1][y_valid==1], 200, facecolor='red', alpha=0.2, label=\"Signal\")\n",
    "\n",
    "plt.xlabel('XGBoost output')\n",
    "plt.ylabel('Events')\n",
    "plt.title('XGBoost output, HiggsML dataset, validation data')\n",
    "plt.grid(True)\n",
    "#plt.yscale('log')\n",
    "plt.legend()\n",
    "plt.show()\n",
    "\n",
    "plt.savefig('validation.pdf')"
   ]
  },
  {
   "cell_type": "code",
   "execution_count": 20,
   "id": "5c1c9a32-835a-4256-b595-f90bdb33c0a4",
   "metadata": {},
   "outputs": [],
   "source": [
    "s = ns.astype(np.int64)\n",
    "b = nb.astype(np.int64)\n"
   ]
  },
  {
   "cell_type": "code",
   "execution_count": 21,
   "id": "ae569e9e-b835-4c8e-958f-10d231e5d4fc",
   "metadata": {},
   "outputs": [
    {
     "name": "stdout",
     "output_type": "stream",
     "text": [
      "20 5 1947\n",
      "40 61 2375\n",
      "60 115 1579\n",
      "80 151 1096\n",
      "100 162 808\n",
      "120 154 549\n",
      "140 247 459\n",
      "160 762 352\n",
      "180 2134 243\n",
      "198 132 11\n"
     ]
    },
    {
     "data": {
      "text/plain": [
       "[0.11326645430985872,\n",
       " 1.2463920021470896,\n",
       " 2.8599505100857696,\n",
       " 4.461978771930317,\n",
       " 5.523041297517719,\n",
       " 6.2964578235222675,\n",
       " 10.675102750557866,\n",
       " 32.29298706550676,\n",
       " 81.0780734612595,\n",
       " 21.669691189170173]"
      ]
     },
     "execution_count": 21,
     "metadata": {},
     "output_type": "execute_result"
    }
   ],
   "source": [
    "points = [0.1,0.2,0.3,0.4,0.5,0.6,0.7,0.8,0.9,0.99]\n",
    "\n",
    "sigma = []\n",
    "for point in points:\n",
    "    i = int(201*point)\n",
    "    print(i, s[i], b[i])\n",
    "    Z = np.sqrt(2*((s[i] + b[i])*np.log(1 + s[i]/b[i]) - s[i]))\n",
    "    sigma.append(Z)\n",
    "    \n",
    "sigma"
   ]
  },
  {
   "cell_type": "code",
   "execution_count": 22,
   "id": "8b1f478e-3bcd-43ea-b0ec-d97f5a012120",
   "metadata": {},
   "outputs": [
    {
     "data": {
      "image/png": "[encoded data removed]",
      "text/plain": [
       "<Figure size 1080x576 with 1 Axes>"
      ]
     },
     "metadata": {
      "needs_background": "light"
     },
     "output_type": "display_data"
    }
   ],
   "source": [
    "from sklearn.metrics import roc_curve,auc\n",
    "fpr, tpr, thresholds = roc_curve(y_valid,y_pred_prob[:,1], pos_label=1)\n",
    "roc_auc = auc(fpr,tpr)\n",
    "plt.figure()\n",
    "lw = 2\n",
    "plt.plot(fpr, tpr, color='darkorange',\n",
    "         lw=lw, label='ROC curve (area = %0.2f)' % roc_auc)\n",
    "plt.plot([0, 1], [0, 1], color='navy', lw=lw, linestyle='--')\n",
    "plt.xlim([0.0, 1.0])\n",
    "plt.ylim([0.0, 1.05])\n",
    "plt.xlabel('False Positive Rate')\n",
    "plt.ylabel('True Positive Rate')\n",
    "plt.title('ROC for xgBoost on HiggsML dataset')\n",
    "plt.legend(loc=\"lower right\")\n",
    "plt.show()"
   ]
  },
  {
   "cell_type": "code",
   "execution_count": 23,
   "id": "1321b22b-ad16-414e-b584-9dde81dfd3ee",
   "metadata": {},
   "outputs": [
    {
     "data": {
      "image/png": "[encoded data removed]",
      "text/plain": [
       "<Figure size 1080x576 with 1 Axes>"
      ]
     },
     "metadata": {
      "needs_background": "light"
     },
     "output_type": "display_data"
    }
   ],
   "source": [
    "x = df.drop([\"label\", \"weight\", \"eventID\"],axis=1)\n",
    "\n",
    "# Put the features inside a dictionary with an index\n",
    "features = {}\n",
    "for i in range(len(x.keys())):\n",
    "    features[i] = x.keys()[i]\n",
    "\n",
    "# Plot variable importance\n",
    "fig = xgb.plot_importance(xgbclassifier)\n",
    "\n",
    "# Go through the labels figure and change them to their correpsonding feature\n",
    "labels = [item.get_text() for item in fig.get_yticklabels()]\n",
    "for i in range(len(labels)):\n",
    "    val = int(labels[i][1:])\n",
    "    feature = features[val]\n",
    "    labels[i] = feature\n",
    "    \n",
    "fig.set_yticklabels(labels) # Set y-tick labels\n",
    "\n",
    "fig_size[0] = 15\n",
    "fig_size[1] = 15\n",
    "plt.rcParams[\"figure.figsize\"] = fig_size\n",
    "plt.show()"
   ]
  },
  {
   "cell_type": "markdown",
   "id": "6cdc424e-7736-489a-9bc4-31645c0866dd",
   "metadata": {},
   "source": [
    "## Setup the plots"
   ]
  },
  {
   "cell_type": "code",
   "execution_count": 24,
   "id": "1b60e7e8-0560-414f-aed1-415c44354d5c",
   "metadata": {},
   "outputs": [],
   "source": [
    "colours = {}\n",
    "\n",
    "colours[\"Diboson\"] = R.kGreen; \n",
    "colours[\"Zjets\"] = R.kYellow; \n",
    "colours[\"ttbar\"] = R.kRed;\n",
    "colours[\"singleTop\"] = R.kBlue-7; \n",
    "colours[\"Wjets\"] = R.kBlue+3; \n",
    "colours[\"topX\"] = R.kOrange+1; \n",
    "colours[\"Higgs\"] = R.kMagenta; \n",
    "colours[\"Wjetsincl\"] = R.kBlue-10;\n",
    "colours[\"Zjetsincl\"] = R.kYellow-9;"
   ]
  },
  {
   "cell_type": "markdown",
   "id": "6159fef4-4610-4faa-b5aa-e8c41455ab44",
   "metadata": {},
   "source": [
    "### Get histograms from C++ class"
   ]
  },
  {
   "cell_type": "markdown",
   "id": "ac7db95c-9846-4c5c-bf48-acffb58335f3",
   "metadata": {},
   "source": [
    "First reshuffle the backgrounds list with Higgs at the top and then Diboson, just for better look"
   ]
  },
  {
   "cell_type": "code",
   "execution_count": 25,
   "id": "5974787a-3957-489a-9b93-8f458ff918ac",
   "metadata": {},
   "outputs": [],
   "source": [
    "Backgrounds.remove('Higgs')"
   ]
  },
  {
   "cell_type": "code",
   "execution_count": 26,
   "id": "c15a3261-28a5-47a6-ae82-163dd5db1b82",
   "metadata": {},
   "outputs": [],
   "source": [
    "Backgrounds.remove('Diboson')\n",
    "\n",
    "Backgrounds.append('Diboson')\n",
    "Backgrounds.append('Higgs')"
   ]
  },
  {
   "cell_type": "code",
   "execution_count": 27,
   "id": "ed703ef6-640f-4f35-81e6-bde207632d4d",
   "metadata": {},
   "outputs": [],
   "source": [
    "H_mllll = {}\n",
    "\n",
    "H_mllll['b'] = R.TH1D()\n",
    "H_mllll['s+b'] = R.TH1D()\n",
    "for bkg in Backgrounds:\n",
    "    H_mllll[bkg] = R.TH1D()\n",
    "    \n",
    "    H_mllll[bkg].SetNameTitle('H_mllll', '4L invariant mass')\n",
    "    H_mllll[bkg].SetBins(24, 80, 170)\n",
    "    \n",
    "    H_mllll[bkg].Reset()\n",
    "    \n",
    "    H_mllll[bkg].Add(selection.Selector().GetHistogram('mllll', bkg)) # Aquire the specific histogram from the Selector pointer from the SelectorProxy class   \n",
    "    \n",
    "    H_mllll['s+b'] = R.TH1D()\n",
    "    H_mllll['s+b'].SetNameTitle('H_mllll', '4L invariant mass')\n",
    "    H_mllll['s+b'].SetBins(24, 80, 170)\n",
    "    H_mllll['s+b'].Reset()\n",
    "    H_mllll['s+b'].Add(selection.Selector().GetHistogram('mllll', bkg))\n",
    "    \n",
    "    if bkg != signal:\n",
    "        H_mllll['b'] = R.TH1D()\n",
    "        H_mllll['b'].SetNameTitle('H_mllll', '4L invariant mass')\n",
    "        H_mllll['b'].SetBins(24, 80, 170)\n",
    "        H_mllll['b'].Reset()\n",
    "        H_mllll['b'].Add(selection.Selector().GetHistogram('mllll', bkg))\n",
    "    "
   ]
  },
  {
   "cell_type": "code",
   "execution_count": 28,
   "id": "c514df00-55f7-4f70-9e15-c6b4a8ac6086",
   "metadata": {},
   "outputs": [
    {
     "data": {
      "text/plain": [
       "True"
      ]
     },
     "execution_count": 28,
     "metadata": {},
     "output_type": "execute_result"
    }
   ],
   "source": [
    "H_mllll_d = R.TH1D()\n",
    "\n",
    "H_mllll_d.SetNameTitle('H_mllll', '4L invariant mass')\n",
    "H_mllll_d.SetBins(24, 80, 170)\n",
    "\n",
    "H_mllll_d.Reset()\n",
    "\n",
    "H_mllll_d.Add(selection.Selector().GetHistogram('mllll', 'data'))"
   ]
  },
  {
   "cell_type": "markdown",
   "id": "52ab83b7-c27b-488a-804c-8a50b39486de",
   "metadata": {},
   "source": [
    "### Create the plots"
   ]
  },
  {
   "cell_type": "code",
   "execution_count": 29,
   "id": "6ab7f85d-9e96-4710-8105-1fcf8f8551e8",
   "metadata": {},
   "outputs": [],
   "source": [
    "for bkg in Backgrounds:\n",
    "    #if bkg == 'Higgs':\n",
    "     #   H_mllll[bkg].SetLineColor(colours[bkg]); \n",
    "        #H_mllll[bkg].SetMarkerStyle(R.kFullCircle); \n",
    "      #  H_mllll[bkg].SetMarkerColor(colours[bkg]); \n",
    "       # H_mllll[bkg].SetLineStyle(2)\n",
    "    \n",
    "    #else:\n",
    "    H_mllll[bkg].SetFillColor(colours[bkg]); \n",
    "\n",
    "    H_mllll[bkg].SetLineColor(colours[bkg]); \n"
   ]
  },
  {
   "cell_type": "code",
   "execution_count": 30,
   "id": "a3acf90b-e78f-451b-99f2-ef1907d398ed",
   "metadata": {},
   "outputs": [],
   "source": [
    "stack_mllll = R.THStack(\"4L invariant mass\", \"\");\n",
    "\n",
    "for bkg in Backgrounds: \n",
    "    stack_mllll.RecursiveRemove(H_mllll[bkg]); ## Remove previously stacked histograms  \n",
    "    \n",
    "    stack_mllll.Add(H_mllll[bkg]); \n",
    "    "
   ]
  },
  {
   "cell_type": "code",
   "execution_count": 31,
   "id": "e5985931-f18b-4dd4-a821-4071fbeb4e48",
   "metadata": {},
   "outputs": [],
   "source": [
    "H_bkg = R.TH1D()\n",
    "\n",
    "H_bkg.SetNameTitle('H_mllll', '4L invariant mass')\n",
    "H_bkg.SetBins(24, 80, 170)\n",
    "\n",
    "H_bkg.Reset()\n",
    "\n",
    "Backgrounds.remove('Higgs')\n",
    "for bkg in Backgrounds:\n",
    "    H_bkg.Add(H_mllll[bkg])\n",
    "    \n",
    "Backgrounds.append('Higgs')"
   ]
  },
  {
   "cell_type": "code",
   "execution_count": 32,
   "id": "1177d5fc-b5ce-4c97-b33e-9d686af80697",
   "metadata": {},
   "outputs": [],
   "source": [
    "H_mllll_d.SetLineColor(R.kBlack); \n",
    "H_mllll_d.SetMarkerStyle(R.kFullCircle); \n",
    "H_mllll_d.SetMarkerColor(R.kBlack); "
   ]
  },
  {
   "cell_type": "code",
   "execution_count": 33,
   "id": "8fd94c31-2220-4511-ac25-5463beb99ed5",
   "metadata": {},
   "outputs": [
    {
     "data": {
      "text/plain": [
       "<cppyy.gbl.TLegendEntry object at 0x366b6070>"
      ]
     },
     "execution_count": 33,
     "metadata": {},
     "output_type": "execute_result"
    }
   ],
   "source": [
    "R.gStyle.SetLegendBorderSize(0); ## Remove (default) border around legend \n",
    "leg = R.TLegend(0.65, 0.60, 0.9, 0.85); \n",
    "\n",
    "leg.Clear();\n",
    "for bkg in Backgrounds: \n",
    "    leg.AddEntry(H_mllll[bkg], bkg, \"f\")  ## Add your histograms to the legend\n",
    "leg.AddEntry(H_mllll_d, \"Data\", \"lep\") "
   ]
  },
  {
   "cell_type": "code",
   "execution_count": 34,
   "id": "1e7b4403-79d9-4c3b-a916-ad643e0cf10c",
   "metadata": {},
   "outputs": [
    {
     "data": {
      "text/html": [
       "\n",
       "\n",
       "<div id=\"root_plot_1716836822892\"\n",
       "     style=\"width: 696px; height: 722px\">\n",
       "</div>\n",
       "<script>\n",
       "\n",
       "function display_root_plot_1716836822892(Core) {\n",
       "   let obj = Core.parse({\"_typename\":\"TCanvas\",\"fUniqueID\":0,\"fBits\":3342344,\"fLineColor\":1,\"fLineStyle\":1,\"fLineWidth\":1,\"fFillColor\":0,\"fFillStyle\":1001,\"fLeftMargin\":0.16,\"fRightMargin\":0.05,\"fBottomMargin\":0.16,\"fTopMargin\":0.05,\"fXfile\":2,\"fYfile\":2,\"fAfile\":1,\"fXstat\":0.99,\"fYstat\":0.99,\"fAstat\":2,\"fFrameFillColor\":0,\"fFrameLineColor\":1,\"fFrameFillStyle\":1001,\"fFrameLineStyle\":1,\"fFrameLineWidth\":1,\"fFrameBorderSize\":1,\"fFrameBorderMode\":0,\"fX1\":0,\"fY1\":0,\"fX2\":1,\"fY2\":1,\"fXtoAbsPixelk\":5e-5,\"fXtoPixelk\":5e-5,\"fXtoPixel\":696,\"fYtoAbsPixelk\":722.00005,\"fYtoPixelk\":722.00005,\"fYtoPixel\":-722,\"fUtoAbsPixelk\":5e-5,\"fUtoPixelk\":5e-5,\"fUtoPixel\":696,\"fVtoAbsPixelk\":722.00005,\"fVtoPixelk\":722,\"fVtoPixel\":-722,\"fAbsPixeltoXk\":0,\"fPixeltoXk\":0,\"fPixeltoX\":0.0014367816091954,\"fAbsPixeltoYk\":1,\"fPixeltoYk\":0,\"fPixeltoY\":-0.00138504155124654,\"fXlowNDC\":0,\"fYlowNDC\":0,\"fXUpNDC\":1,\"fYUpNDC\":1,\"fWNDC\":1,\"fHNDC\":1,\"fAbsXlowNDC\":0,\"fAbsYlowNDC\":0,\"fAbsWNDC\":1,\"fAbsHNDC\":1,\"fUxmin\":0,\"fUymin\":0,\"fUxmax\":1,\"fUymax\":1,\"fTheta\":30,\"fPhi\":30,\"fAspectRatio\":0,\"fNumber\":0,\"fTickx\":1,\"fTicky\":1,\"fLogx\":0,\"fLogy\":0,\"fLogz\":0,\"fPadPaint\":0,\"fCrosshair\":0,\"fCrosshairPos\":0,\"fBorderSize\":2,\"fBorderMode\":0,\"fModified\":false,\"fGridx\":false,\"fGridy\":false,\"fAbsCoord\":false,\"fEditable\":true,\"fFixedAspectRatio\":false,\"fPrimitives\":{\"_typename\":\"TList\",\"name\":\"TList\",\"arr\":[{\"_typename\":\"TPad\",\"fUniqueID\":0,\"fBits\":9,\"fLineColor\":1,\"fLineStyle\":1,\"fLineWidth\":1,\"fFillColor\":0,\"fFillStyle\":1001,\"fLeftMargin\":0.14,\"fRightMargin\":0.05,\"fBottomMargin\":0,\"fTopMargin\":0.05,\"fXfile\":2,\"fYfile\":2,\"fAfile\":1,\"fXstat\":0.99,\"fYstat\":0.99,\"fAstat\":2,\"fFrameFillColor\":0,\"fFrameLineColor\":1,\"fFrameFillStyle\":1001,\"fFrameLineStyle\":1,\"fFrameLineWidth\":1,\"fFrameBorderSize\":1,\"fFrameBorderMode\":0,\"fX1\":64.4444444240039,\"fY1\":1e-4,\"fX2\":175.555555621987,\"fY2\":31.5789421486043,\"fXtoAbsPixelk\":-403.679949556343,\"fXtoPixelk\":-403.679949556343,\"fXtoPixel\":6.26399999510248,\"fYtoAbsPixelk\":469.301536121618,\"fYtoPixelk\":469.301536121618,\"fYtoPixel\":-14.8612161836574,\"fUtoAbsPixelk\":5e-5,\"fUtoPixelk\":5e-5,\"fUtoPixel\":696,\"fVtoAbsPixelk\":469.30005,\"fVtoPixelk\":469.3,\"fVtoPixel\":-469.3,\"fAbsPixeltoXk\":64.4444444240039,\"fPixeltoXk\":64.4444444240039,\"fPixeltoX\":0.159642401146528,\"fAbsPixeltoYk\":31.5789421486043,\"fPixeltoYk\":1e-4,\"fPixeltoY\":-0.0672892438708808,\"fXlowNDC\":0,\"fYlowNDC\":0.35,\"fXUpNDC\":1,\"fYUpNDC\":1,\"fWNDC\":1,\"fHNDC\":0.65,\"fAbsXlowNDC\":0,\"fAbsYlowNDC\":0.35,\"fAbsWNDC\":1,\"fAbsHNDC\":0.65,\"fUxmin\":80,\"fUymin\":1e-4,\"fUxmax\":170,\"fUymax\":30,\"fTheta\":30,\"fPhi\":30,\"fAspectRatio\":0,\"fNumber\":0,\"fTickx\":0,\"fTicky\":0,\"fLogx\":0,\"fLogy\":0,\"fLogz\":0,\"fPadPaint\":0,\"fCrosshair\":0,\"fCrosshairPos\":0,\"fBorderSize\":2,\"fBorderMode\":0,\"fModified\":false,\"fGridx\":false,\"fGridy\":false,\"fAbsCoord\":false,\"fEditable\":true,\"fFixedAspectRatio\":false,\"fPrimitives\":{\"_typename\":\"TList\",\"name\":\"TList\",\"arr\":[{\"_typename\":\"TFrame\",\"fUniqueID\":0,\"fBits\":8,\"fLineColor\":1,\"fLineStyle\":1,\"fLineWidth\":1,\"fFillColor\":0,\"fFillStyle\":1001,\"fX1\":80,\"fY1\":1e-4,\"fX2\":170,\"fY2\":30,\"fBorderSize\":1,\"fBorderMode\":0},{\"_typename\":\"THStack\",\"fUniqueID\":0,\"fBits\":8,\"fName\":\"4L invariant mass\",\"fTitle\":\"\",\"fHists\":{\"_typename\":\"TList\",\"name\":\"TList\",\"arr\":[{\"_typename\":\"TH1D\",\"fUniqueID\":0,\"fBits\":0,\"fName\":\"H_mllll\",\"fTitle\":\"4L invariant mass\",\"fLineColor\":391,\"fLineStyle\":1,\"fLineWidth\":1,\"fFillColor\":391,\"fFillStyle\":1001,\"fMarkerColor\":1,\"fMarkerStyle\":1,\"fMarkerSize\":1,\"fNcells\":26,\"fXaxis\":{\"_typename\":\"TAxis\",\"fUniqueID\":0,\"fBits\":0,\"fName\":\"xaxis\",\"fTitle\":\"\",\"fNdivisions\":510,\"fAxisColor\":1,\"fLabelColor\":1,\"fLabelFont\":42,\"fLabelOffset\":0.005,\"fLabelSize\":0.035,\"fTickLength\":0.03,\"fTitleOffset\":1,\"fTitleSize\":0.035,\"fTitleColor\":1,\"fTitleFont\":42,\"fNbins\":24,\"fXmin\":80,\"fXmax\":170,\"fXbins\":[],\"fFirst\":1,\"fLast\":1,\"fBits2\":0,\"fTimeDisplay\":false,\"fTimeFormat\":\"\",\"fLabels\":null,\"fModLabs\":null},\"fYaxis\":{\"_typename\":\"TAxis\",\"fUniqueID\":0,\"fBits\":0,\"fName\":\"yaxis\",\"fTitle\":\"\",\"fNdivisions\":510,\"fAxisColor\":1,\"fLabelColor\":1,\"fLabelFont\":42,\"fLabelOffset\":0.005,\"fLabelSize\":0.035,\"fTickLength\":0.03,\"fTitleOffset\":0,\"fTitleSize\":0.035,\"fTitleColor\":1,\"fTitleFont\":42,\"fNbins\":1,\"fXmin\":0,\"fXmax\":1,\"fXbins\":[],\"fFirst\":0,\"fLast\":0,\"fBits2\":0,\"fTimeDisplay\":false,\"fTimeFormat\":\"\",\"fLabels\":null,\"fModLabs\":null},\"fZaxis\":{\"_typename\":\"TAxis\",\"fUniqueID\":0,\"fBits\":0,\"fName\":\"zaxis\",\"fTitle\":\"\",\"fNdivisions\":510,\"fAxisColor\":1,\"fLabelColor\":1,\"fLabelFont\":42,\"fLabelOffset\":0.005,\"fLabelSize\":0.035,\"fTickLength\":0.03,\"fTitleOffset\":1,\"fTitleSize\":0.035,\"fTitleColor\":1,\"fTitleFont\":42,\"fNbins\":1,\"fXmin\":0,\"fXmax\":1,\"fXbins\":[],\"fFirst\":0,\"fLast\":0,\"fBits2\":0,\"fTimeDisplay\":false,\"fTimeFormat\":\"\",\"fLabels\":null,\"fModLabs\":null},\"fBarOffset\":0,\"fBarWidth\":1000,\"fEntries\":38,\"fTsumw\":5.47751829781213,\"fTsumw2\":1.87848388163282,\"fTsumwx\":721.476570008802,\"fTsumwx2\":95926.5370278753,\"fMaximum\":-1111,\"fMinimum\":-1111,\"fNormFactor\":0,\"fContour\":[],\"fSumw2\":[0,0,0,0,0,0,0,0.113850183201092,0,0.10200282517802,0,0.314333221946522,0.228005179260971,0.272532137816428,0.0940514999676222,0,0.0899309486598547,0.124256123238747,0.129438702007145,0.0749184260442791,0.113843569712759,0.14724999489431,0,0,0.0740710697050699,0.345861786853808],\"fOption\":\"\",\"fFunctions\":{\"_typename\":\"TList\",\"name\":\"TList\",\"arr\":[],\"opt\":[]},\"fBufferSize\":0,\"fBuffer\":[],\"fBinStatErrOpt\":0,\"fStatOverflows\":2,\"fArray\":[0,0,0,0,0,0,0,0.546343839053368,0,-0.319378811410556,0,1.12077888641892,0.907814401324702,0.470991267795287,0.306678170021314,0,0.401341497559453,0.566656913953137,0.359775905262074,0.36357639694343,0.641368167998338,0.383731670434315,0,0,-0.272160007541648,0.860282689257166]},{\"_typename\":\"TH1D\",\"fUniqueID\":0,\"fBits\":0,\"fName\":\"H_mllll\",\"fTitle\":\"4L invariant mass\",\"fLineColor\":593,\"fLineStyle\":1,\"fLineWidth\":1,\"fFillColor\":593,\"fFillStyle\":1001,\"fMarkerColor\":1,\"fMarkerStyle\":1,\"fMarkerSize\":1,\"fNcells\":26,\"fXaxis\":{\"_typename\":\"TAxis\",\"fUniqueID\":0,\"fBits\":0,\"fName\":\"xaxis\",\"fTitle\":\"\",\"fNdivisions\":510,\"fAxisColor\":1,\"fLabelColor\":1,\"fLabelFont\":42,\"fLabelOffset\":0.005,\"fLabelSize\":0.035,\"fTickLength\":0.03,\"fTitleOffset\":1,\"fTitleSize\":0.035,\"fTitleColor\":1,\"fTitleFont\":42,\"fNbins\":24,\"fXmin\":80,\"fXmax\":170,\"fXbins\":[],\"fFirst\":1,\"fLast\":1,\"fBits2\":0,\"fTimeDisplay\":false,\"fTimeFormat\":\"\",\"fLabels\":null,\"fModLabs\":null},\"fYaxis\":{\"_typename\":\"TAxis\",\"fUniqueID\":0,\"fBits\":0,\"fName\":\"yaxis\",\"fTitle\":\"\",\"fNdivisions\":510,\"fAxisColor\":1,\"fLabelColor\":1,\"fLabelFont\":42,\"fLabelOffset\":0.005,\"fLabelSize\":0.035,\"fTickLength\":0.03,\"fTitleOffset\":0,\"fTitleSize\":0.035,\"fTitleColor\":1,\"fTitleFont\":42,\"fNbins\":1,\"fXmin\":0,\"fXmax\":1,\"fXbins\":[],\"fFirst\":0,\"fLast\":0,\"fBits2\":0,\"fTimeDisplay\":false,\"fTimeFormat\":\"\",\"fLabels\":null,\"fModLabs\":null},\"fZaxis\":{\"_typename\":\"TAxis\",\"fUniqueID\":0,\"fBits\":0,\"fName\":\"zaxis\",\"fTitle\":\"\",\"fNdivisions\":510,\"fAxisColor\":1,\"fLabelColor\":1,\"fLabelFont\":42,\"fLabelOffset\":0.005,\"fLabelSize\":0.035,\"fTickLength\":0.03,\"fTitleOffset\":1,\"fTitleSize\":0.035,\"fTitleColor\":1,\"fTitleFont\":42,\"fNbins\":1,\"fXmin\":0,\"fXmax\":1,\"fXbins\":[],\"fFirst\":0,\"fLast\":0,\"fBits2\":0,\"fTimeDisplay\":false,\"fTimeFormat\":\"\",\"fLabels\":null,\"fModLabs\":null},\"fBarOffset\":0,\"fBarWidth\":1000,\"fEntries\":0,\"fTsumw\":0,\"fTsumw2\":0,\"fTsumwx\":0,\"fTsumwx2\":0,\"fMaximum\":-1111,\"fMinimum\":-1111,\"fNormFactor\":0,\"fContour\":[],\"fSumw2\":[],\"fOption\":\"\",\"fFunctions\":{\"_typename\":\"TList\",\"name\":\"TList\",\"arr\":[],\"opt\":[]},\"fBufferSize\":0,\"fBuffer\":[],\"fBinStatErrOpt\":0,\"fStatOverflows\":2,\"fArray\":[0,0,0,0,0,0,0,0,0,0,0,0,0,0,0,0,0,0,0,0,0,0,0,0,0,0]},{\"_typename\":\"TH1D\",\"fUniqueID\":0,\"fBits\":0,\"fName\":\"H_mllll\",\"fTitle\":\"4L invariant mass\",\"fLineColor\":801,\"fLineStyle\":1,\"fLineWidth\":1,\"fFillColor\":801,\"fFillStyle\":1001,\"fMarkerColor\":1,\"fMarkerStyle\":1,\"fMarkerSize\":1,\"fNcells\":26,\"fXaxis\":{\"_typename\":\"TAxis\",\"fUniqueID\":0,\"fBits\":0,\"fName\":\"xaxis\",\"fTitle\":\"\",\"fNdivisions\":510,\"fAxisColor\":1,\"fLabelColor\":1,\"fLabelFont\":42,\"fLabelOffset\":0.005,\"fLabelSize\":0.035,\"fTickLength\":0.03,\"fTitleOffset\":1,\"fTitleSize\":0.035,\"fTitleColor\":1,\"fTitleFont\":42,\"fNbins\":24,\"fXmin\":80,\"fXmax\":170,\"fXbins\":[],\"fFirst\":1,\"fLast\":1,\"fBits2\":0,\"fTimeDisplay\":false,\"fTimeFormat\":\"\",\"fLabels\":null,\"fModLabs\":null},\"fYaxis\":{\"_typename\":\"TAxis\",\"fUniqueID\":0,\"fBits\":0,\"fName\":\"yaxis\",\"fTitle\":\"\",\"fNdivisions\":510,\"fAxisColor\":1,\"fLabelColor\":1,\"fLabelFont\":42,\"fLabelOffset\":0.005,\"fLabelSize\":0.035,\"fTickLength\":0.03,\"fTitleOffset\":0,\"fTitleSize\":0.035,\"fTitleColor\":1,\"fTitleFont\":42,\"fNbins\":1,\"fXmin\":0,\"fXmax\":1,\"fXbins\":[],\"fFirst\":0,\"fLast\":0,\"fBits2\":0,\"fTimeDisplay\":false,\"fTimeFormat\":\"\",\"fLabels\":null,\"fModLabs\":null},\"fZaxis\":{\"_typename\":\"TAxis\",\"fUniqueID\":0,\"fBits\":0,\"fName\":\"zaxis\",\"fTitle\":\"\",\"fNdivisions\":510,\"fAxisColor\":1,\"fLabelColor\":1,\"fLabelFont\":42,\"fLabelOffset\":0.005,\"fLabelSize\":0.035,\"fTickLength\":0.03,\"fTitleOffset\":1,\"fTitleSize\":0.035,\"fTitleColor\":1,\"fTitleFont\":42,\"fNbins\":1,\"fXmin\":0,\"fXmax\":1,\"fXbins\":[],\"fFirst\":0,\"fLast\":0,\"fBits2\":0,\"fTimeDisplay\":false,\"fTimeFormat\":\"\",\"fLabels\":null,\"fModLabs\":null},\"fBarOffset\":0,\"fBarWidth\":1000,\"fEntries\":3218,\"fTsumw\":0.104359403073333,\"fTsumw2\":1.16227063250341e-4,\"fTsumwx\":14.9919737892344,\"fTsumwx2\":2201.41552459489,\"fMaximum\":-1111,\"fMinimum\":-1111,\"fNormFactor\":0,\"fContour\":[],\"fSumw2\":[4.12154738219108e-6,9.04676858245314e-8,4.74992799627406e-7,1.14997984709666e-6,1.66482839507708e-6,6.39203056148498e-7,2.37632439651369e-6,1.71634986204579e-6,1.22501735707546e-6,2.46517868504574e-6,3.85338305511108e-6,2.1811971090908e-6,3.98683013481925e-6,4.97120302544819e-6,5.06572686127545e-6,2.60286508065229e-6,1.78358250540748e-6,5.54831064727127e-6,5.44381024069782e-6,7.23977658911708e-6,1.00308019053694e-5,1.28135366500481e-5,1.15281749516504e-5,1.20893188426925e-5,1.5286203567235e-5,0.00105860369127934],\"fOption\":\"\",\"fFunctions\":{\"_typename\":\"TList\",\"name\":\"TList\",\"arr\":[],\"opt\":[]},\"fBufferSize\":0,\"fBuffer\":[],\"fBinStatErrOpt\":0,\"fStatOverflows\":2,\"fArray\":[0.00171175331397584,3.00778466357769e-4,-6.89197213885406e-4,0.00182477249780682,0.00248205948936034,0.00130089009431765,0.00227329122733693,0.00189631748147159,6.6606953797796e-4,0.00370495396242203,0.00311471765148894,0.00200103407205389,-1.2049215232692e-4,0.00561743573218884,0.00525655560814963,0.00463021692212182,3.64084901991474e-4,0.00439201629866247,0.00380990550222736,0.00729455357990474,0.0123484735916639,0.00981491371893745,0.0171037250336131,0.00845092712076553,0.00652139994872493,0.835714963780228]},{\"_typename\":\"TH1D\",\"fUniqueID\":0,\"fBits\":0,\"fName\":\"H_mllll\",\"fTitle\":\"4L invariant mass\",\"fLineColor\":632,\"fLineStyle\":1,\"fLineWidth\":1,\"fFillColor\":632,\"fFillStyle\":1001,\"fMarkerColor\":1,\"fMarkerStyle\":1,\"fMarkerSize\":1,\"fNcells\":26,\"fXaxis\":{\"_typename\":\"TAxis\",\"fUniqueID\":0,\"fBits\":0,\"fName\":\"xaxis\",\"fTitle\":\"\",\"fNdivisions\":510,\"fAxisColor\":1,\"fLabelColor\":1,\"fLabelFont\":42,\"fLabelOffset\":0.005,\"fLabelSize\":0.035,\"fTickLength\":0.03,\"fTitleOffset\":1,\"fTitleSize\":0.035,\"fTitleColor\":1,\"fTitleFont\":42,\"fNbins\":24,\"fXmin\":80,\"fXmax\":170,\"fXbins\":[],\"fFirst\":1,\"fLast\":1,\"fBits2\":0,\"fTimeDisplay\":false,\"fTimeFormat\":\"\",\"fLabels\":null,\"fModLabs\":null},\"fYaxis\":{\"_typename\":\"TAxis\",\"fUniqueID\":0,\"fBits\":0,\"fName\":\"yaxis\",\"fTitle\":\"\",\"fNdivisions\":510,\"fAxisColor\":1,\"fLabelColor\":1,\"fLabelFont\":42,\"fLabelOffset\":0.005,\"fLabelSize\":0.035,\"fTickLength\":0.03,\"fTitleOffset\":0,\"fTitleSize\":0.035,\"fTitleColor\":1,\"fTitleFont\":42,\"fNbins\":1,\"fXmin\":0,\"fXmax\":1,\"fXbins\":[],\"fFirst\":0,\"fLast\":0,\"fBits2\":0,\"fTimeDisplay\":false,\"fTimeFormat\":\"\",\"fLabels\":null,\"fModLabs\":null},\"fZaxis\":{\"_typename\":\"TAxis\",\"fUniqueID\":0,\"fBits\":0,\"fName\":\"zaxis\",\"fTitle\":\"\",\"fNdivisions\":510,\"fAxisColor\":1,\"fLabelColor\":1,\"fLabelFont\":42,\"fLabelOffset\":0.005,\"fLabelSize\":0.035,\"fTickLength\":0.03,\"fTitleOffset\":1,\"fTitleSize\":0.035,\"fTitleColor\":1,\"fTitleFont\":42,\"fNbins\":1,\"fXmin\":0,\"fXmax\":1,\"fXbins\":[],\"fFirst\":0,\"fLast\":0,\"fBits2\":0,\"fTimeDisplay\":false,\"fTimeFormat\":\"\",\"fLabels\":null,\"fModLabs\":null},\"fBarOffset\":0,\"fBarWidth\":1000,\"fEntries\":9,\"fTsumw\":0.601640820613585,\"fTsumw2\":0.0567700260373578,\"fTsumwx\":74.0798363899896,\"fTsumwx2\":9282.64416304129,\"fMaximum\":-1111,\"fMinimum\":-1111,\"fNormFactor\":0,\"fContour\":[],\"fSumw2\":[0,0,0,0,0,0,0.0105923432356776,0,0,0.00919993540797291,0.00122183044685838,0,0.0140086334410923,0.0118072824192602,0,0,0,0,0,0,0.0099400010864965,0,0,0,0,0.0163998277235209],\"fOption\":\"\",\"fFunctions\":{\"_typename\":\"TList\",\"name\":\"TList\",\"arr\":[],\"opt\":[]},\"fBufferSize\":0,\"fBuffer\":[],\"fBinStatErrOpt\":0,\"fStatOverflows\":2,\"fArray\":[0,0,0,0,0,0,0.102919110157821,0,0,0.0959162937564463,0.0349546913426278,0,0.159489851469444,0.108661319793476,0,0,0,0,0,0,0.0996995540937697,0,0,0,0,0.173374251577618]},{\"_typename\":\"TH1D\",\"fUniqueID\":0,\"fBits\":0,\"fName\":\"H_mllll\",\"fTitle\":\"4L invariant mass\",\"fLineColor\":416,\"fLineStyle\":1,\"fLineWidth\":1,\"fFillColor\":416,\"fFillStyle\":1001,\"fMarkerColor\":1,\"fMarkerStyle\":1,\"fMarkerSize\":1,\"fNcells\":26,\"fXaxis\":{\"_typename\":\"TAxis\",\"fUniqueID\":0,\"fBits\":0,\"fName\":\"xaxis\",\"fTitle\":\"\",\"fNdivisions\":510,\"fAxisColor\":1,\"fLabelColor\":1,\"fLabelFont\":42,\"fLabelOffset\":0.005,\"fLabelSize\":0.035,\"fTickLength\":0.03,\"fTitleOffset\":1,\"fTitleSize\":0.035,\"fTitleColor\":1,\"fTitleFont\":42,\"fNbins\":24,\"fXmin\":80,\"fXmax\":170,\"fXbins\":[],\"fFirst\":1,\"fLast\":1,\"fBits2\":0,\"fTimeDisplay\":false,\"fTimeFormat\":\"\",\"fLabels\":null,\"fModLabs\":null},\"fYaxis\":{\"_typename\":\"TAxis\",\"fUniqueID\":0,\"fBits\":0,\"fName\":\"yaxis\",\"fTitle\":\"\",\"fNdivisions\":510,\"fAxisColor\":1,\"fLabelColor\":1,\"fLabelFont\":42,\"fLabelOffset\":0.005,\"fLabelSize\":0.035,\"fTickLength\":0.03,\"fTitleOffset\":0,\"fTitleSize\":0.035,\"fTitleColor\":1,\"fTitleFont\":42,\"fNbins\":1,\"fXmin\":0,\"fXmax\":1,\"fXbins\":[],\"fFirst\":0,\"fLast\":0,\"fBits2\":0,\"fTimeDisplay\":false,\"fTimeFormat\":\"\",\"fLabels\":null,\"fModLabs\":null},\"fZaxis\":{\"_typename\":\"TAxis\",\"fUniqueID\":0,\"fBits\":0,\"fName\":\"zaxis\",\"fTitle\":\"\",\"fNdivisions\":510,\"fAxisColor\":1,\"fLabelColor\":1,\"fLabelFont\":42,\"fLabelOffset\":0.005,\"fLabelSize\":0.035,\"fTickLength\":0.03,\"fTitleOffset\":1,\"fTitleSize\":0.035,\"fTitleColor\":1,\"fTitleFont\":42,\"fNbins\":1,\"fXmin\":0,\"fXmax\":1,\"fXbins\":[],\"fFirst\":0,\"fLast\":0,\"fBits2\":0,\"fTimeDisplay\":false,\"fTimeFormat\":\"\",\"fLabels\":null,\"fModLabs\":null},\"fBarOffset\":0,\"fBarWidth\":1000,\"fEntries\":790841,\"fTsumw\":99.3084730110303,\"fTsumw2\":0.252534097251973,\"fTsumwx\":11085.7641934476,\"fTsumwx2\":1308854.36897647,\"fMaximum\":-1111,\"fMinimum\":-1111,\"fNormFactor\":0,\"fContour\":[],\"fSumw2\":[0.00355631572903356,0.0051117346410138,0.0184385231478518,0.0558175483005681,0.0420641204238262,0.0103177136443364,0.0044814466384173,0.0032225313249677,0.00318096740048645,0.00431843947978619,0.00508640604040548,0.00617717888427717,0.00742225945046852,0.00821578193772785,0.00718913324804697,0.00819623840959623,0.00689681259944113,0.00712227817664947,0.00663282388434303,0.00826862484905234,0.00804959207912076,0.00610280442619058,0.00639715238467263,0.0066789535596992,0.0071450323210266,1.13929439429424],\"fOption\":\"\",\"fFunctions\":{\"_typename\":\"TList\",\"name\":\"TList\",\"arr\":[],\"opt\":[]},\"fBufferSize\":0,\"fBuffer\":[],\"fBinStatErrOpt\":0,\"fStatOverflows\":2,\"fArray\":[1.6266421557787,2.1492455400268,7.90264758777169,22.8932922368148,16.9133085627022,4.1928036516273,1.78468055041295,1.33977721718912,1.19164819803839,1.73024786394511,2.04251561453703,2.48496388839285,2.766869841772,2.87475227813642,2.90851758779716,2.67041656655619,2.72303109770553,2.85048806793509,2.59601283229316,2.73262485322219,2.46053375424769,2.46180330663174,2.46687284270462,2.5217860618395,2.64963300873011,322.161101076246]},{\"_typename\":\"TH1D\",\"fUniqueID\":0,\"fBits\":0,\"fName\":\"H_mllll\",\"fTitle\":\"4L invariant mass\",\"fLineColor\":616,\"fLineStyle\":1,\"fLineWidth\":1,\"fFillColor\":616,\"fFillStyle\":1001,\"fMarkerColor\":1,\"fMarkerStyle\":1,\"fMarkerSize\":1,\"fNcells\":26,\"fXaxis\":{\"_typename\":\"TAxis\",\"fUniqueID\":0,\"fBits\":0,\"fName\":\"xaxis\",\"fTitle\":\"\",\"fNdivisions\":510,\"fAxisColor\":1,\"fLabelColor\":1,\"fLabelFont\":42,\"fLabelOffset\":0.005,\"fLabelSize\":0.035,\"fTickLength\":0.03,\"fTitleOffset\":1,\"fTitleSize\":0.035,\"fTitleColor\":1,\"fTitleFont\":42,\"fNbins\":24,\"fXmin\":80,\"fXmax\":170,\"fXbins\":[],\"fFirst\":1,\"fLast\":1,\"fBits2\":0,\"fTimeDisplay\":false,\"fTimeFormat\":\"\",\"fLabels\":null,\"fModLabs\":null},\"fYaxis\":{\"_typename\":\"TAxis\",\"fUniqueID\":0,\"fBits\":0,\"fName\":\"yaxis\",\"fTitle\":\"\",\"fNdivisions\":510,\"fAxisColor\":1,\"fLabelColor\":1,\"fLabelFont\":42,\"fLabelOffset\":0.005,\"fLabelSize\":0.035,\"fTickLength\":0.03,\"fTitleOffset\":0,\"fTitleSize\":0.035,\"fTitleColor\":1,\"fTitleFont\":42,\"fNbins\":1,\"fXmin\":0,\"fXmax\":1,\"fXbins\":[],\"fFirst\":0,\"fLast\":0,\"fBits2\":0,\"fTimeDisplay\":false,\"fTimeFormat\":\"\",\"fLabels\":null,\"fModLabs\":null},\"fZaxis\":{\"_typename\":\"TAxis\",\"fUniqueID\":0,\"fBits\":0,\"fName\":\"zaxis\",\"fTitle\":\"\",\"fNdivisions\":510,\"fAxisColor\":1,\"fLabelColor\":1,\"fLabelFont\":42,\"fLabelOffset\":0.005,\"fLabelSize\":0.035,\"fTickLength\":0.03,\"fTitleOffset\":1,\"fTitleSize\":0.035,\"fTitleColor\":1,\"fTitleFont\":42,\"fNbins\":1,\"fXmin\":0,\"fXmax\":1,\"fXbins\":[],\"fFirst\":0,\"fLast\":0,\"fBits2\":0,\"fTimeDisplay\":false,\"fTimeFormat\":\"\",\"fLabels\":null,\"fModLabs\":null},\"fBarOffset\":0,\"fBarWidth\":1000,\"fEntries\":283845,\"fTsumw\":13.2172809037564,\"fTsumw2\":0.106502305774212,\"fTsumwx\":1772.03806400689,\"fTsumwx2\":241611.543662537,\"fMaximum\":-1111,\"fMinimum\":-1111,\"fNormFactor\":0,\"fContour\":[],\"fSumw2\":[8.34391914553527e-4,1.04804100452353e-4,0.00256312247371635,4.64229159024705e-5,2.85376401987714e-4,0.00119532710598407,2.0970057714404e-6,5.55853072708619e-5,1.11117342692727e-4,1.27459053754829e-4,0.00132056552691509,3.88317236123191e-4,0.0112055813103757,5.08694279464265e-4,7.84332404232821e-4,0.00251242203947107,0.00345891688385349,0.00250900379605342,0.0114760878046097,0.00851412241321499,0.0104745974964775,0.010490430576445,0.0130768730954555,0.0121339412204574,0.0131571079835302,0.24406914922013],\"fOption\":\"\",\"fFunctions\":{\"_typename\":\"TList\",\"name\":\"TList\",\"arr\":[],\"opt\":[]},\"fBufferSize\":0,\"fBuffer\":[],\"fBinStatErrOpt\":0,\"fStatOverflows\":2,\"fArray\":[0.0669437088701917,0.0179376086986943,0.0938759700309418,0.0139419581635566,0.0283456657340978,0.0502494006785404,0.0168785657659499,0.0357343999767668,0.0666689832763566,0.120564585298274,0.347438100644329,1.18926359238313,3.93175639679718,2.22782145096277,0.298941816893787,0.186261973245163,0.239531627492601,0.261555364693389,0.514094749558791,0.517308738381227,0.596471807563641,0.550670999138747,0.577179978119044,0.654272402297874,0.680514767961593,12.5109524490541]}],\"opt\":[\"\",\"\",\"\",\"\",\"\",\"\"]},\"fHistogram\":{\"_typename\":\"TH1F\",\"fUniqueID\":0,\"fBits\":512,\"fName\":\"4L invariant mass\",\"fTitle\":\"\",\"fLineColor\":1,\"fLineStyle\":1,\"fLineWidth\":2,\"fFillColor\":0,\"fFillStyle\":1001,\"fMarkerColor\":1,\"fMarkerStyle\":20,\"fMarkerSize\":1.2,\"fNcells\":26,\"fXaxis\":{\"_typename\":\"TAxis\",\"fUniqueID\":0,\"fBits\":0,\"fName\":\"xaxis\",\"fTitle\":\"m_{4l} (GeV)\",\"fNdivisions\":510,\"fAxisColor\":1,\"fLabelColor\":1,\"fLabelFont\":42,\"fLabelOffset\":0.005,\"fLabelSize\":0.05,\"fTickLength\":0.03,\"fTitleOffset\":1.3,\"fTitleSize\":0.05,\"fTitleColor\":1,\"fTitleFont\":42,\"fNbins\":24,\"fXmin\":80,\"fXmax\":170,\"fXbins\":[],\"fFirst\":0,\"fLast\":0,\"fBits2\":0,\"fTimeDisplay\":false,\"fTimeFormat\":\"\",\"fLabels\":null,\"fModLabs\":null},\"fYaxis\":{\"_typename\":\"TAxis\",\"fUniqueID\":0,\"fBits\":0,\"fName\":\"yaxis\",\"fTitle\":\"# events\",\"fNdivisions\":510,\"fAxisColor\":1,\"fLabelColor\":1,\"fLabelFont\":42,\"fLabelOffset\":0.005,\"fLabelSize\":0.05,\"fTickLength\":0.03,\"fTitleOffset\":1.3,\"fTitleSize\":0.05,\"fTitleColor\":1,\"fTitleFont\":42,\"fNbins\":1,\"fXmin\":0,\"fXmax\":1,\"fXbins\":[],\"fFirst\":0,\"fLast\":0,\"fBits2\":0,\"fTimeDisplay\":false,\"fTimeFormat\":\"\",\"fLabels\":null,\"fModLabs\":null},\"fZaxis\":{\"_typename\":\"TAxis\",\"fUniqueID\":0,\"fBits\":0,\"fName\":\"zaxis\",\"fTitle\":\"\",\"fNdivisions\":510,\"fAxisColor\":1,\"fLabelColor\":1,\"fLabelFont\":42,\"fLabelOffset\":0.005,\"fLabelSize\":0.05,\"fTickLength\":0.03,\"fTitleOffset\":1,\"fTitleSize\":0.05,\"fTitleColor\":1,\"fTitleFont\":42,\"fNbins\":1,\"fXmin\":0,\"fXmax\":1,\"fXbins\":[],\"fFirst\":0,\"fLast\":0,\"fBits2\":0,\"fTimeDisplay\":false,\"fTimeFormat\":\"\",\"fLabels\":null,\"fModLabs\":null},\"fBarOffset\":0,\"fBarWidth\":1000,\"fEntries\":0,\"fTsumw\":0,\"fTsumw2\":0,\"fTsumwx\":0,\"fTsumwx2\":0,\"fMaximum\":30,\"fMinimum\":1e-4,\"fNormFactor\":0,\"fContour\":[],\"fSumw2\":[],\"fOption\":\"\",\"fFunctions\":{\"_typename\":\"TList\",\"name\":\"TList\",\"arr\":[],\"opt\":[]},\"fBufferSize\":0,\"fBuffer\":[],\"fBinStatErrOpt\":0,\"fStatOverflows\":2,\"fArray\":[0,0,0,0,0,0,0,0,0,0,0,0,0,0,0,0,0,0,0,0,0,0,0,0,0,0]},\"fMaximum\":30,\"fMinimum\":1e-4},{\"_typename\":\"TH1D\",\"fUniqueID\":0,\"fBits\":8,\"fName\":\"H_mllll\",\"fTitle\":\"4L invariant mass\",\"fLineColor\":1,\"fLineStyle\":1,\"fLineWidth\":1,\"fFillColor\":0,\"fFillStyle\":1001,\"fMarkerColor\":1,\"fMarkerStyle\":20,\"fMarkerSize\":1,\"fNcells\":26,\"fXaxis\":{\"_typename\":\"TAxis\",\"fUniqueID\":0,\"fBits\":0,\"fName\":\"xaxis\",\"fTitle\":\"\",\"fNdivisions\":510,\"fAxisColor\":1,\"fLabelColor\":1,\"fLabelFont\":42,\"fLabelOffset\":0.005,\"fLabelSize\":0.035,\"fTickLength\":0.03,\"fTitleOffset\":1,\"fTitleSize\":0.035,\"fTitleColor\":1,\"fTitleFont\":42,\"fNbins\":24,\"fXmin\":80,\"fXmax\":170,\"fXbins\":[],\"fFirst\":1,\"fLast\":1,\"fBits2\":0,\"fTimeDisplay\":false,\"fTimeFormat\":\"\",\"fLabels\":null,\"fModLabs\":null},\"fYaxis\":{\"_typename\":\"TAxis\",\"fUniqueID\":0,\"fBits\":0,\"fName\":\"yaxis\",\"fTitle\":\"\",\"fNdivisions\":510,\"fAxisColor\":1,\"fLabelColor\":1,\"fLabelFont\":42,\"fLabelOffset\":0.005,\"fLabelSize\":0.035,\"fTickLength\":0.03,\"fTitleOffset\":0,\"fTitleSize\":0.035,\"fTitleColor\":1,\"fTitleFont\":42,\"fNbins\":1,\"fXmin\":0,\"fXmax\":1,\"fXbins\":[],\"fFirst\":0,\"fLast\":0,\"fBits2\":0,\"fTimeDisplay\":false,\"fTimeFormat\":\"\",\"fLabels\":null,\"fModLabs\":null},\"fZaxis\":{\"_typename\":\"TAxis\",\"fUniqueID\":0,\"fBits\":0,\"fName\":\"zaxis\",\"fTitle\":\"\",\"fNdivisions\":510,\"fAxisColor\":1,\"fLabelColor\":1,\"fLabelFont\":42,\"fLabelOffset\":0.005,\"fLabelSize\":0.035,\"fTickLength\":0.03,\"fTitleOffset\":1,\"fTitleSize\":0.035,\"fTitleColor\":1,\"fTitleFont\":42,\"fNbins\":1,\"fXmin\":0,\"fXmax\":1,\"fXbins\":[],\"fFirst\":0,\"fLast\":0,\"fBits2\":0,\"fTimeDisplay\":false,\"fTimeFormat\":\"\",\"fLabels\":null,\"fModLabs\":null},\"fBarOffset\":0,\"fBarWidth\":1000,\"fEntries\":279,\"fTsumw\":85,\"fTsumw2\":85,\"fTsumwx\":9780.60548117362,\"fTsumwx2\":1181870.87685873,\"fMaximum\":-1111,\"fMinimum\":-1111,\"fNormFactor\":0,\"fContour\":[],\"fSumw2\":[],\"fOption\":\"\",\"fFunctions\":{\"_typename\":\"TList\",\"name\":\"TList\",\"arr\":[],\"opt\":[]},\"fBufferSize\":0,\"fBuffer\":[],\"fBinStatErrOpt\":0,\"fStatOverflows\":2,\"fArray\":[0,1,6,20,7,2,3,1,0,2,1,5,8,6,2,1,1,4,1,2,4,2,1,3,2,194]},{\"_typename\":\"TLegend\",\"fUniqueID\":0,\"fBits\":8,\"fLineColor\":1,\"fLineStyle\":1,\"fLineWidth\":1,\"fFillColor\":0,\"fFillStyle\":1001,\"fX1\":136.666666702693,\"fY1\":18.9474052891626,\"fX2\":164.444444502189,\"fY2\":26.8421158263137,\"fX1NDC\":0.65,\"fY1NDC\":0.6,\"fX2NDC\":0.9,\"fY2NDC\":0.85,\"fBorderSize\":0,\"fInit\":1,\"fShadowColor\":1,\"fCornerRadius\":0,\"fOption\":\"brNDC\",\"fName\":\"TPave\",\"fTextAngle\":0,\"fTextSize\":0,\"fTextAlign\":12,\"fTextColor\":1,\"fTextFont\":42,\"fPrimitives\":{\"_typename\":\"TList\",\"name\":\"TList\",\"arr\":[{\"_typename\":\"TLegendEntry\",\"fUniqueID\":0,\"fBits\":0,\"fTextAngle\":0,\"fTextSize\":0,\"fTextAlign\":0,\"fTextColor\":0,\"fTextFont\":42,\"fLineColor\":391,\"fLineStyle\":1,\"fLineWidth\":1,\"fFillColor\":391,\"fFillStyle\":1001,\"fMarkerColor\":1,\"fMarkerStyle\":21,\"fMarkerSize\":1,\"fObject\":{\"$ref\":7},\"fLabel\":\"Zjetsincl\",\"fOption\":\"f\"},{\"_typename\":\"TLegendEntry\",\"fUniqueID\":0,\"fBits\":0,\"fTextAngle\":0,\"fTextSize\":0,\"fTextAlign\":0,\"fTextColor\":0,\"fTextFont\":42,\"fLineColor\":593,\"fLineStyle\":1,\"fLineWidth\":1,\"fFillColor\":593,\"fFillStyle\":1001,\"fMarkerColor\":1,\"fMarkerStyle\":21,\"fMarkerSize\":1,\"fObject\":{\"$ref\":12},\"fLabel\":\"singleTop\",\"fOption\":\"f\"},{\"_typename\":\"TLegendEntry\",\"fUniqueID\":0,\"fBits\":0,\"fTextAngle\":0,\"fTextSize\":0,\"fTextAlign\":0,\"fTextColor\":0,\"fTextFont\":42,\"fLineColor\":801,\"fLineStyle\":1,\"fLineWidth\":1,\"fFillColor\":801,\"fFillStyle\":1001,\"fMarkerColor\":1,\"fMarkerStyle\":21,\"fMarkerSize\":1,\"fObject\":{\"$ref\":17},\"fLabel\":\"topX\",\"fOption\":\"f\"},{\"_typename\":\"TLegendEntry\",\"fUniqueID\":0,\"fBits\":0,\"fTextAngle\":0,\"fTextSize\":0,\"fTextAlign\":0,\"fTextColor\":0,\"fTextFont\":42,\"fLineColor\":632,\"fLineStyle\":1,\"fLineWidth\":1,\"fFillColor\":632,\"fFillStyle\":1001,\"fMarkerColor\":1,\"fMarkerStyle\":21,\"fMarkerSize\":1,\"fObject\":{\"$ref\":22},\"fLabel\":\"ttbar\",\"fOption\":\"f\"},{\"_typename\":\"TLegendEntry\",\"fUniqueID\":0,\"fBits\":0,\"fTextAngle\":0,\"fTextSize\":0,\"fTextAlign\":0,\"fTextColor\":0,\"fTextFont\":42,\"fLineColor\":416,\"fLineStyle\":1,\"fLineWidth\":1,\"fFillColor\":416,\"fFillStyle\":1001,\"fMarkerColor\":1,\"fMarkerStyle\":21,\"fMarkerSize\":1,\"fObject\":{\"$ref\":27},\"fLabel\":\"Diboson\",\"fOption\":\"f\"},{\"_typename\":\"TLegendEntry\",\"fUniqueID\":0,\"fBits\":0,\"fTextAngle\":0,\"fTextSize\":0,\"fTextAlign\":0,\"fTextColor\":0,\"fTextFont\":42,\"fLineColor\":616,\"fLineStyle\":1,\"fLineWidth\":1,\"fFillColor\":616,\"fFillStyle\":1001,\"fMarkerColor\":1,\"fMarkerStyle\":21,\"fMarkerSize\":1,\"fObject\":{\"$ref\":32},\"fLabel\":\"Higgs\",\"fOption\":\"f\"},{\"_typename\":\"TLegendEntry\",\"fUniqueID\":0,\"fBits\":0,\"fTextAngle\":0,\"fTextSize\":0,\"fTextAlign\":0,\"fTextColor\":0,\"fTextFont\":42,\"fLineColor\":1,\"fLineStyle\":1,\"fLineWidth\":1,\"fFillColor\":0,\"fFillStyle\":0,\"fMarkerColor\":1,\"fMarkerStyle\":20,\"fMarkerSize\":1,\"fObject\":{\"$ref\":42},\"fLabel\":\"Data\",\"fOption\":\"lep\"}],\"opt\":[\"f\",\"f\",\"f\",\"f\",\"f\",\"f\",\"lep\"]},\"fEntrySeparation\":0.1,\"fMargin\":0.25,\"fNColumns\":1,\"fColumnSeparation\":0}],\"opt\":[\"\",\"hist\",\"same E\",\"\"]},\"fExecs\":{\"_typename\":\"TList\",\"name\":\"TList\",\"arr\":[],\"opt\":[]},\"fName\":\"upper_pad\",\"fTitle\":\"\",\"fNumPaletteColor\":0,\"fNextPaletteColor\":0},{\"_typename\":\"TPad\",\"fUniqueID\":0,\"fBits\":9,\"fLineColor\":1,\"fLineStyle\":1,\"fLineWidth\":1,\"fFillColor\":0,\"fFillStyle\":1001,\"fLeftMargin\":0.14,\"fRightMargin\":0.05,\"fBottomMargin\":0.3,\"fTopMargin\":0,\"fXfile\":2,\"fYfile\":2,\"fAfile\":1,\"fXstat\":0.99,\"fYstat\":0.99,\"fAstat\":2,\"fFrameFillColor\":0,\"fFrameLineColor\":1,\"fFrameFillStyle\":1001,\"fFrameLineStyle\":1,\"fFrameLineWidth\":1,\"fFrameBorderSize\":1,\"fFrameBorderMode\":0,\"fX1\":64.4444444240039,\"fY1\":-18.5712433437065,\"fX2\":175.555555621987,\"fY2\":9.9999,\"fXtoAbsPixelk\":-403.679949556343,\"fXtoPixelk\":-403.679949556343,\"fXtoPixel\":6.26399999510248,\"fYtoAbsPixelk\":557.745048493791,\"fYtoPixelk\":88.4450484937906,\"fYtoPixel\":-8.84458829526202,\"fUtoAbsPixelk\":5e-5,\"fUtoPixelk\":5e-5,\"fUtoPixel\":696,\"fVtoAbsPixelk\":722.00005,\"fVtoPixelk\":252.7,\"fVtoPixel\":-252.7,\"fAbsPixeltoXk\":64.4444444240039,\"fPixeltoXk\":64.4444444240039,\"fPixeltoX\":0.159642401146528,\"fAbsPixeltoYk\":63.0605947811693,\"fPixeltoYk\":-18.5712433437065,\"fPixeltoY\":-0.113063487707584,\"fXlowNDC\":0,\"fYlowNDC\":0,\"fXUpNDC\":1,\"fYUpNDC\":0.35,\"fWNDC\":1,\"fHNDC\":0.35,\"fAbsXlowNDC\":0,\"fAbsYlowNDC\":0,\"fAbsWNDC\":1,\"fAbsHNDC\":0.35,\"fUxmin\":80,\"fUymin\":-9.9999,\"fUxmax\":170,\"fUymax\":9.9999,\"fTheta\":30,\"fPhi\":30,\"fAspectRatio\":0,\"fNumber\":0,\"fTickx\":0,\"fTicky\":0,\"fLogx\":0,\"fLogy\":0,\"fLogz\":0,\"fPadPaint\":0,\"fCrosshair\":0,\"fCrosshairPos\":0,\"fBorderSize\":2,\"fBorderMode\":0,\"fModified\":false,\"fGridx\":false,\"fGridy\":false,\"fAbsCoord\":false,\"fEditable\":true,\"fFixedAspectRatio\":false,\"fPrimitives\":{\"_typename\":\"TList\",\"name\":\"TList\",\"arr\":[{\"_typename\":\"TFrame\",\"fUniqueID\":0,\"fBits\":8,\"fLineColor\":1,\"fLineStyle\":1,\"fLineWidth\":1,\"fFillColor\":0,\"fFillStyle\":1001,\"fX1\":80,\"fY1\":-9.9999,\"fX2\":170,\"fY2\":9.9999,\"fBorderSize\":1,\"fBorderMode\":0},{\"_typename\":\"TH1I\",\"fUniqueID\":0,\"fBits\":520,\"fName\":\"zero\",\"fTitle\":\"\",\"fLineColor\":600,\"fLineStyle\":2,\"fLineWidth\":2,\"fFillColor\":0,\"fFillStyle\":1001,\"fMarkerColor\":1,\"fMarkerStyle\":20,\"fMarkerSize\":1.2,\"fNcells\":102,\"fXaxis\":{\"_typename\":\"TAxis\",\"fUniqueID\":0,\"fBits\":0,\"fName\":\"xaxis\",\"fTitle\":\"m_{llll} [GeV]\",\"fNdivisions\":510,\"fAxisColor\":1,\"fLabelColor\":1,\"fLabelFont\":42,\"fLabelOffset\":0.005,\"fLabelSize\":0.08,\"fTickLength\":0.03,\"fTitleOffset\":1,\"fTitleSize\":0.12,\"fTitleColor\":1,\"fTitleFont\":42,\"fNbins\":100,\"fXmin\":80,\"fXmax\":170,\"fXbins\":[],\"fFirst\":0,\"fLast\":0,\"fBits2\":0,\"fTimeDisplay\":false,\"fTimeFormat\":\"\",\"fLabels\":null,\"fModLabs\":null},\"fYaxis\":{\"_typename\":\"TAxis\",\"fUniqueID\":0,\"fBits\":4096,\"fName\":\"yaxis\",\"fTitle\":\"Data - Bkg\",\"fNdivisions\":503,\"fAxisColor\":1,\"fLabelColor\":1,\"fLabelFont\":42,\"fLabelOffset\":0.005,\"fLabelSize\":0.08,\"fTickLength\":0.03,\"fTitleOffset\":0.7,\"fTitleSize\":0.09,\"fTitleColor\":1,\"fTitleFont\":42,\"fNbins\":1,\"fXmin\":0,\"fXmax\":1,\"fXbins\":[],\"fFirst\":0,\"fLast\":0,\"fBits2\":0,\"fTimeDisplay\":false,\"fTimeFormat\":\"\",\"fLabels\":null,\"fModLabs\":{\"_typename\":\"TList\",\"name\":\"TList\",\"arr\":[{\"_typename\":\"TAxisModLab\",\"fUniqueID\":0,\"fBits\":0,\"fTextAngle\":-1,\"fTextSize\":0,\"fTextAlign\":-1,\"fTextColor\":-1,\"fTextFont\":-1,\"fLabNum\":-1,\"fLabText\":\"\"}],\"opt\":[\"\"]}},\"fZaxis\":{\"_typename\":\"TAxis\",\"fUniqueID\":0,\"fBits\":0,\"fName\":\"zaxis\",\"fTitle\":\"\",\"fNdivisions\":510,\"fAxisColor\":1,\"fLabelColor\":1,\"fLabelFont\":42,\"fLabelOffset\":0.005,\"fLabelSize\":0.05,\"fTickLength\":0.03,\"fTitleOffset\":1,\"fTitleSize\":0.05,\"fTitleColor\":1,\"fTitleFont\":42,\"fNbins\":1,\"fXmin\":0,\"fXmax\":1,\"fXbins\":[],\"fFirst\":0,\"fLast\":0,\"fBits2\":0,\"fTimeDisplay\":false,\"fTimeFormat\":\"\",\"fLabels\":null,\"fModLabs\":null},\"fBarOffset\":0,\"fBarWidth\":1000,\"fEntries\":0,\"fTsumw\":0,\"fTsumw2\":0,\"fTsumwx\":0,\"fTsumwx2\":0,\"fMaximum\":9.9999,\"fMinimum\":-9.9999,\"fNormFactor\":0,\"fContour\":[],\"fSumw2\":[],\"fOption\":\"\",\"fFunctions\":{\"_typename\":\"TList\",\"name\":\"TList\",\"arr\":[],\"opt\":[]},\"fBufferSize\":0,\"fBuffer\":[],\"fBinStatErrOpt\":0,\"fStatOverflows\":2,\"fArray\":[0,0,0,0,0,0,0,0,0,0,0,0,0,0,0,0,0,0,0,0,0,0,0,0,0,0,0,0,0,0,0,0,0,0,0,0,0,0,0,0,0,0,0,0,0,0,0,0,0,0,0,0,0,0,0,0,0,0,0,0,0,0,0,0,0,0,0,0,0,0,0,0,0,0,0,0,0,0,0,0,0,0,0,0,0,0,0,0,0,0,0,0,0,0,0,0,0,0,0,0,0,0]},{\"_typename\":\"TLine\",\"fUniqueID\":0,\"fBits\":8,\"fLineColor\":600,\"fLineStyle\":2,\"fLineWidth\":2,\"fX1\":80,\"fY1\":0,\"fX2\":170,\"fY2\":0},{\"_typename\":\"TH1D\",\"fUniqueID\":0,\"fBits\":8,\"fName\":\"H_mllll\",\"fTitle\":\"4L invariant mass\",\"fLineColor\":1,\"fLineStyle\":1,\"fLineWidth\":1,\"fFillColor\":0,\"fFillStyle\":1001,\"fMarkerColor\":1,\"fMarkerStyle\":20,\"fMarkerSize\":1,\"fNcells\":26,\"fXaxis\":{\"_typename\":\"TAxis\",\"fUniqueID\":0,\"fBits\":0,\"fName\":\"xaxis\",\"fTitle\":\"\",\"fNdivisions\":510,\"fAxisColor\":1,\"fLabelColor\":1,\"fLabelFont\":42,\"fLabelOffset\":0.005,\"fLabelSize\":0.035,\"fTickLength\":0.03,\"fTitleOffset\":1,\"fTitleSize\":0.035,\"fTitleColor\":1,\"fTitleFont\":42,\"fNbins\":24,\"fXmin\":80,\"fXmax\":170,\"fXbins\":[],\"fFirst\":1,\"fLast\":1,\"fBits2\":0,\"fTimeDisplay\":false,\"fTimeFormat\":\"\",\"fLabels\":null,\"fModLabs\":null},\"fYaxis\":{\"_typename\":\"TAxis\",\"fUniqueID\":0,\"fBits\":0,\"fName\":\"yaxis\",\"fTitle\":\"\",\"fNdivisions\":510,\"fAxisColor\":1,\"fLabelColor\":1,\"fLabelFont\":42,\"fLabelOffset\":0.005,\"fLabelSize\":0.035,\"fTickLength\":0.03,\"fTitleOffset\":0,\"fTitleSize\":0.035,\"fTitleColor\":1,\"fTitleFont\":42,\"fNbins\":1,\"fXmin\":0,\"fXmax\":1,\"fXbins\":[],\"fFirst\":0,\"fLast\":0,\"fBits2\":0,\"fTimeDisplay\":false,\"fTimeFormat\":\"\",\"fLabels\":null,\"fModLabs\":null},\"fZaxis\":{\"_typename\":\"TAxis\",\"fUniqueID\":0,\"fBits\":0,\"fName\":\"zaxis\",\"fTitle\":\"\",\"fNdivisions\":510,\"fAxisColor\":1,\"fLabelColor\":1,\"fLabelFont\":42,\"fLabelOffset\":0.005,\"fLabelSize\":0.035,\"fTickLength\":0.03,\"fTitleOffset\":1,\"fTitleSize\":0.035,\"fTitleColor\":1,\"fTitleFont\":42,\"fNbins\":1,\"fXmin\":0,\"fXmax\":1,\"fXbins\":[],\"fFirst\":0,\"fLast\":0,\"fBits2\":0,\"fTimeDisplay\":false,\"fTimeFormat\":\"\",\"fLabels\":null,\"fModLabs\":null},\"fBarOffset\":0,\"fBarWidth\":1000,\"fEntries\":20.4919915325287,\"fTsumw\":-20.4919915325287,\"fTsumw2\":87.1879042319854,\"fTsumwx\":-2116.01450416334,\"fTsumwx2\":-233380.961780753,\"fMaximum\":-1111,\"fMinimum\":-1111,\"fNormFactor\":0,\"fContour\":[],\"fSumw2\":[0.00356043727641575,1,6,20,7,2,3,1,0,2,1,5,8,6,2,1,1,4,1,2,4,2,1,3,2.08123138822966,195.502614612563],\"fOption\":\"\",\"fFunctions\":{\"_typename\":\"TList\",\"name\":\"TList\",\"arr\":[],\"opt\":[]},\"fBufferSize\":0,\"fBuffer\":[],\"fBinStatErrOpt\":0,\"fStatOverflows\":2,\"fArray\":[-1.62835390909268,-1.14954631849316,-1.9019583905578,-2.8951170093126,-9.91579062219158,-2.19410454172162,1.1101270482019,-0.888017373723956,-1.19231426757636,0.489509699746573,-1.08058502353115,1.39225619111618,4.16594639758618,2.53997769854263,-1.22045231342663,-1.67504678347831,-2.12473668016698,0.578463001813111,-1.95959864305746,-1.10349580374552,0.786050050068541,-0.855349890784991,-1.48397656773823,0.469763011039735,-0.38399440113719,-130.030472980861]}],\"opt\":[\"\",\"AXIS\",\"\",\"E SAME\"]},\"fExecs\":{\"_typename\":\"TList\",\"name\":\"TList\",\"arr\":[],\"opt\":[]},\"fName\":\"lower_pad\",\"fTitle\":\"\",\"fNumPaletteColor\":0,\"fNextPaletteColor\":0},{\"_typename\":\"TStyle\",\"fUniqueID\":0,\"fBits\":0,\"fName\":\"ATLAS\",\"fTitle\":\"ATLAS Style\",\"fLineColor\":1,\"fLineStyle\":1,\"fLineWidth\":1,\"fFillColor\":19,\"fFillStyle\":1001,\"fMarkerColor\":1,\"fMarkerStyle\":20,\"fMarkerSize\":1.2,\"fTextAngle\":0,\"fTextSize\":0.05,\"fTextAlign\":11,\"fTextColor\":1,\"fTextFont\":42,\"fXaxis\":{\"_typename\":\"TAttAxis\",\"fNdivisions\":510,\"fAxisColor\":1,\"fLabelColor\":1,\"fLabelFont\":42,\"fLabelOffset\":0.005,\"fLabelSize\":0.05,\"fTickLength\":0.03,\"fTitleOffset\":1.4,\"fTitleSize\":0.05,\"fTitleColor\":1,\"fTitleFont\":42},\"fYaxis\":{\"_typename\":\"TAttAxis\",\"fNdivisions\":510,\"fAxisColor\":1,\"fLabelColor\":1,\"fLabelFont\":42,\"fLabelOffset\":0.005,\"fLabelSize\":0.05,\"fTickLength\":0.03,\"fTitleOffset\":1.4,\"fTitleSize\":0.05,\"fTitleColor\":1,\"fTitleFont\":42},\"fZaxis\":{\"_typename\":\"TAttAxis\",\"fNdivisions\":510,\"fAxisColor\":1,\"fLabelColor\":1,\"fLabelFont\":42,\"fLabelOffset\":0.005,\"fLabelSize\":0.05,\"fTickLength\":0.03,\"fTitleOffset\":1,\"fTitleSize\":0.05,\"fTitleColor\":1,\"fTitleFont\":42},\"fBarWidth\":1,\"fBarOffset\":0,\"fColorModelPS\":0,\"fDrawBorder\":0,\"fOptLogx\":0,\"fOptLogy\":0,\"fOptLogz\":0,\"fOptDate\":0,\"fOptStat\":0,\"fOptTitle\":0,\"fOptFile\":0,\"fOptFit\":0,\"fShowEventStatus\":0,\"fShowEditor\":0,\"fShowToolBar\":0,\"fNumberContours\":20,\"fAttDate\":{\"_typename\":\"TAttText\",\"fTextAngle\":0,\"fTextSize\":0.025,\"fTextAlign\":11,\"fTextColor\":1,\"fTextFont\":62},\"fDateX\":0.01,\"fDateY\":0.01,\"fEndErrorSize\":0,\"fErrorX\":0.5,\"fFuncColor\":1,\"fFuncStyle\":1,\"fFuncWidth\":3,\"fGridColor\":0,\"fGridStyle\":3,\"fGridWidth\":1,\"fLegendBorderSize\":4,\"fLegendFillColor\":0,\"fLegendFont\":62,\"fLegendTextSize\":0,\"fHatchesLineWidth\":1,\"fHatchesSpacing\":1,\"fFrameFillColor\":0,\"fFrameLineColor\":1,\"fFrameFillStyle\":1001,\"fFrameLineStyle\":1,\"fFrameLineWidth\":1,\"fFrameBorderSize\":1,\"fFrameBorderMode\":0,\"fHistFillColor\":0,\"fHistLineColor\":1,\"fHistFillStyle\":1001,\"fHistLineStyle\":1,\"fHistLineWidth\":2,\"fHistMinimumZero\":false,\"fHistTopMargin\":0.05,\"fCanvasPreferGL\":false,\"fCanvasColor\":0,\"fCanvasBorderSize\":2,\"fCanvasBorderMode\":0,\"fCanvasDefH\":500,\"fCanvasDefW\":700,\"fCanvasDefX\":10,\"fCanvasDefY\":10,\"fPadColor\":0,\"fPadBorderSize\":2,\"fPadBorderMode\":0,\"fPadBottomMargin\":0.16,\"fPadTopMargin\":0.05,\"fPadLeftMargin\":0.16,\"fPadRightMargin\":0.05,\"fPadGridX\":false,\"fPadGridY\":false,\"fPadTickX\":1,\"fPadTickY\":1,\"fPaperSizeX\":20,\"fPaperSizeY\":26,\"fScreenFactor\":1,\"fStatColor\":0,\"fStatTextColor\":1,\"fStatBorderSize\":2,\"fStatFont\":62,\"fStatFontSize\":0,\"fStatStyle\":1001,\"fStatFormat\":\"6.4g\",\"fStatX\":0.98,\"fStatY\":0.995,\"fStatW\":0.2,\"fStatH\":0.16,\"fStripDecimals\":true,\"fTitleAlign\":13,\"fTitleColor\":19,\"fTitleTextColor\":1,\"fTitleBorderSize\":2,\"fTitleFont\":62,\"fTitleFontSize\":0,\"fTitleStyle\":1001,\"fTitleX\":0.01,\"fTitleY\":0.995,\"fTitleW\":0,\"fTitleH\":0,\"fLegoInnerR\":0.5,\"fLineStyle\":[\"\",\"  \",\"  12 12 \",\" 4 8\",\" 12 16 4 16\",\" 20 12 4 12\",\" 20 12 4 12 4 12 4 12\",\" 20 20\",\" 20 12 4 12 4 12\",\" 80 20\",\" 80 40 4 40\",\"  \",\"  \",\"  \",\"  \",\"  \",\"  \",\"  \",\"  \",\"  \",\"  \",\"  \",\"  \",\"  \",\"  \",\"  \",\"  \",\"  \",\"  \",\"  \"],\"fHeaderPS\":\"\",\"fTitlePS\":\"\",\"fFitFormat\":\"5.4g\",\"fPaintTextFormat\":\"g\",\"fLineScalePS\":3,\"fJoinLinePS\":0,\"fCapLinePS\":0,\"fTimeOffset\":788918400,\"fImageScaling\":1}],\"opt\":[\"\",\"\",\"\"]},\"fExecs\":null,\"fName\":\"c\",\"fTitle\":\"c\",\"fNumPaletteColor\":0,\"fNextPaletteColor\":0,\"fDISPLAY\":\"$DISPLAY\",\"fDoubleBuffer\":0,\"fRetained\":true,\"fXsizeUser\":0,\"fYsizeUser\":0,\"fXsizeReal\":18.66667,\"fYsizeReal\":20,\"fWindowTopX\":0,\"fWindowTopY\":0,\"fWindowWidth\":0,\"fWindowHeight\":0,\"fCw\":696,\"fCh\":722,\"fCatt\":{\"_typename\":\"TAttCanvas\",\"fXBetween\":2,\"fYBetween\":2,\"fTitleFromTop\":1.2,\"fXdate\":0.2,\"fYdate\":0.3,\"fAdate\":1},\"kMoveOpaque\":true,\"kResizeOpaque\":true,\"fHighLightColor\":2,\"fBatch\":true,\"kShowEventStatus\":false,\"kAutoExec\":true,\"kMenuBar\":true});\n",
       "   Core.settings.HandleKeys = false;\n",
       "   Core.draw(\"root_plot_1716836822892\", obj, \"\");\n",
       "}\n",
       "\n",
       "function script_load_root_plot_1716836822892(src, on_error) {\n",
       "    let script = document.createElement('script');\n",
       "    script.src = src;\n",
       "    script.onload = function() { display_root_plot_1716836822892(JSROOT); };\n",
       "    script.onerror = function() { script.remove(); on_error(); };\n",
       "    document.head.appendChild(script);\n",
       "}\n",
       "\n",
       "if (typeof requirejs !== 'undefined') {\n",
       "\n",
       "    // We are in jupyter notebooks, use require.js which should be configured already\n",
       "    requirejs.config({\n",
       "       paths: { 'JSRootCore' : [ 'scripts/JSRoot.core', 'https://root.cern/js/6.1.1/scripts/JSRoot.core.min', 'https://jsroot.gsi.de/6.1.1/scripts/JSRoot.core.min' ] }\n",
       "    })(['JSRootCore'],  function(Core) {\n",
       "       display_root_plot_1716836822892(Core);\n",
       "    });\n",
       "\n",
       "} else if (typeof JSROOT !== 'undefined') {\n",
       "\n",
       "   // JSROOT already loaded, just use it\n",
       "   display_root_plot_1716836822892(JSROOT);\n",
       "\n",
       "} else {\n",
       "\n",
       "    // We are in jupyterlab without require.js, directly loading jsroot\n",
       "    // Jupyterlab might be installed in a different base_url so we need to know it.\n",
       "    try {\n",
       "        var base_url = JSON.parse(document.getElementById('jupyter-config-data').innerHTML).baseUrl;\n",
       "    } catch(_) {\n",
       "        var base_url = '/';\n",
       "    }\n",
       "\n",
       "    // Try loading a local version of requirejs and fallback to cdn if not possible.\n",
       "    script_load_root_plot_1716836822892(base_url + 'static/scripts/JSRoot.core.js', function(){\n",
       "        console.error('Fail to load JSROOT locally, please check your jupyter_notebook_config.py file');\n",
       "        script_load_root_plot_1716836822892('https://root.cern/js/6.1.1/scripts/JSRoot.core.min.js', function(){\n",
       "            document.getElementById(\"root_plot_1716836822892\").innerHTML = \"Failed to load JSROOT\";\n",
       "        });\n",
       "    });\n",
       "}\n",
       "\n",
       "</script>\n"
      ],
      "text/plain": [
       "<IPython.core.display.HTML object>"
      ]
     },
     "metadata": {},
     "output_type": "display_data"
    }
   ],
   "source": [
    "R.gROOT.SetStyle(\"ATLAS\")\n",
    "\n",
    "C = R.TCanvas(\"c\", \"c\", 700, 750)\n",
    "\n",
    "upper_pad = R.TPad(\"upper_pad\", \"\", 0, 0.35, 1, 1)\n",
    "lower_pad = R.TPad(\"lower_pad\", \"\", 0, 0, 1, 0.35)\n",
    "for p in [upper_pad, lower_pad]:\n",
    "    p.SetLeftMargin(0.14)\n",
    "    p.SetRightMargin(0.05)\n",
    "    p.SetTickx(False)\n",
    "    p.SetTicky(False)\n",
    "upper_pad.SetBottomMargin(0)\n",
    "lower_pad.SetTopMargin(0)\n",
    "lower_pad.SetBottomMargin(0.3)\n",
    " \n",
    "upper_pad.Draw()\n",
    "lower_pad.Draw()\n",
    "\n",
    "upper_pad.cd()\n",
    "\n",
    "R.gPad.SetLogy(0) ## Set logarithmic y-axis\n",
    "\n",
    "stack_mllll.Draw(\"hist\"); \n",
    "stack_mllll.SetMaximum(30); \n",
    "stack_mllll.SetMinimum(0.0001); \n",
    "stack_mllll.GetYaxis().SetTitle(\"# events\");\n",
    "stack_mllll.GetYaxis().SetTitleOffset(1.3); \n",
    "stack_mllll.GetXaxis().SetTitle(\"m_{4l} (GeV)\");\n",
    "stack_mllll.GetXaxis().SetTitleOffset(1.3);\n",
    "H_mllll_d.Draw(\"same E\"); \n",
    "leg.Draw();\n",
    "\n",
    "lower_pad.cd()\n",
    "\n",
    "ratiobkg = R.TH1I(\"zero\", \"\", 100, 80, 170)\n",
    "ratiobkg.SetLineColor(R.kBlue)\n",
    "ratiobkg.SetLineStyle(2)\n",
    "ratiobkg.SetLineWidth(2)\n",
    "ratiobkg.SetMinimum(-9.9999)\n",
    "ratiobkg.SetMaximum(9.9999)\n",
    "ratiobkg.GetXaxis().SetLabelSize(0.08)\n",
    "ratiobkg.GetXaxis().SetTitleSize(0.12)\n",
    "ratiobkg.GetXaxis().SetTitleOffset(1.0)\n",
    "ratiobkg.GetYaxis().SetLabelSize(0.08)\n",
    "ratiobkg.GetYaxis().SetTitleSize(0.09)\n",
    "ratiobkg.GetYaxis().SetTitle(\"Data - Bkg\")\n",
    "ratiobkg.GetYaxis().CenterTitle()\n",
    "ratiobkg.GetYaxis().SetTitleOffset(0.7)\n",
    "ratiobkg.GetYaxis().SetNdivisions(503, True)\n",
    "ratiobkg.GetYaxis().ChangeLabel(-1, -1, 0)\n",
    "ratiobkg.GetXaxis().SetTitle(\"m_{llll} [GeV]\")\n",
    "ratiobkg.Draw(\"AXIS\")\n",
    "\n",
    "line = R.TLine(80, 0, 170, 0)\n",
    "line.SetLineWidth(2)\n",
    "line.SetLineStyle(2)\n",
    "line.SetLineColor(R.kBlue)\n",
    "line.Draw()\n",
    " \n",
    "ratiodata = H_mllll_d.Clone()\n",
    "ratiodata.Add(H_bkg, -1)\n",
    "for i in range(1, H_mllll_d.GetNbinsX()):\n",
    "    ratiodata.SetBinError(i, H_mllll_d.GetBinError(i))\n",
    "ratiodata.Draw(\"E SAME\")\n",
    "\n",
    "C.Draw();"
   ]
  },
  {
   "cell_type": "code",
   "execution_count": 35,
   "id": "05475ca9-389d-484f-aebc-cadbaea94ead",
   "metadata": {},
   "outputs": [
    {
     "name": "stdout",
     "output_type": "stream",
     "text": [
      "\n",
      "\u001b[1mRooFit v3.60 -- Developed by Wouter Verkerke and David Kirkby\u001b[0m \n",
      "                Copyright (C) 2000-2013 NIKHEF, University of California & Stanford University\n",
      "                All rights reserved, please read http://roofit.sourceforge.net/license.txt\n",
      "\n",
      "[#1] INFO:DataHandling -- RooDataHist::adjustBinning(data): fit range of variable x expanded to nearest bin boundaries: [117.5,128.5] --> [117.5,128.75]\n",
      "[#1] INFO:Minization -- createNLL: caching constraint set under name CONSTR_OF_PDF_g_FOR_OBS_x with 0 entries\n",
      " **********\n",
      " **    1 **SET PRINT           1\n",
      " **********\n",
      " **********\n",
      " **    2 **SET NOGRAD\n",
      " **********\n",
      " PARAMETER DEFINITIONS:\n",
      "    NO.   NAME         VALUE      STEP SIZE      LIMITS\n",
      "     1 mean         1.24000e+02  1.20000e+00    1.18000e+02  1.30000e+02\n",
      "     2 sigma        2.50500e+01  4.99000e+00    1.00000e-01  5.00000e+01\n",
      " **********\n",
      " **    3 **SET ERR         0.5\n",
      " **********\n",
      " **********\n",
      " **    4 **SET PRINT           1\n",
      " **********\n",
      " **********\n",
      " **    5 **SET STR           1\n",
      " **********\n",
      " NOW USING STRATEGY  1: TRY TO BALANCE SPEED AGAINST RELIABILITY\n",
      " **********\n",
      " **    6 **MIGRAD        1000           1\n",
      " **********\n",
      " FIRST CALL TO USER FUNCTION AT NEW START POINT, WITH IFLAG=4.\n",
      " START MIGRAD MINIMIZATION.  STRATEGY  1.  CONVERGENCE WHEN EDM .LT. 1.00e-03\n",
      " FCN=17.0479 FROM MIGRAD    STATUS=INITIATE       27 CALLS          28 TOTAL\n",
      "                     EDM= unknown      STRATEGY= 1      NO ERROR MATRIX       \n",
      "  EXT PARAMETER               CURRENT GUESS       STEP         FIRST   \n",
      "  NO.   NAME      VALUE            ERROR          SIZE      DERIVATIVE \n",
      "   1  mean         1.24000e+02   1.20000e+00   0.00000e+00   1.75605e+00\n",
      "   2  sigma        2.40487e+00   4.99000e+00  -1.13758e+00  -7.89297e+00\n",
      "                               ERR DEF= 0.5\n",
      " MIGRAD MINIMIZATION HAS CONVERGED.\n",
      " MIGRAD WILL VERIFY CONVERGENCE AND ERROR MATRIX.\n",
      " COVARIANCE MATRIX CALCULATED SUCCESSFULLY\n",
      " FCN=16.8749 FROM MIGRAD    STATUS=CONVERGED      51 CALLS          52 TOTAL\n",
      "                     EDM=0.000121619    STRATEGY= 1      ERROR MATRIX ACCURATE \n",
      "  EXT PARAMETER                                   STEP         FIRST   \n",
      "  NO.   NAME      VALUE            ERROR          SIZE      DERIVATIVE \n",
      "   1  mean         1.23824e+02   1.27500e+00   5.50515e-04  -4.96299e-02\n",
      "   2  sigma        2.91150e+00   1.25261e+00   2.60687e-04  -1.26030e-02\n",
      "                               ERR DEF= 0.5\n",
      " EXTERNAL ERROR MATRIX.    NDIM=  25    NPAR=  2    ERR DEF=0.5\n",
      "  1.651e+00  3.689e-01 \n",
      "  3.689e-01  1.575e+00 \n",
      " PARAMETER  CORRELATION COEFFICIENTS  \n",
      "       NO.  GLOBAL      1      2\n",
      "        1  0.22879   1.000  0.229\n",
      "        2  0.22879   0.229  1.000\n"
     ]
    },
    {
     "name": "stderr",
     "output_type": "stream",
     "text": [
      "Warning in <TCanvas::Constructor>: Deleting canvas with same name: c\n",
      "Warning in <ROOT::Math::FitConfig::CreateMinimizer>: Could not create the Minuit2 minimizer. Try using the minimizer Minuit\n"
     ]
    },
    {
     "data": {
      "text/html": [
       "\n",
       "\n",
       "<div id=\"root_plot_1716836823316\"\n",
       "     style=\"width: 696px; height: 722px\">\n",
       "</div>\n",
       "<script>\n",
       "\n",
       "function display_root_plot_1716836823316(Core) {\n",
       "   let obj = Core.parse({\"_typename\":\"TCanvas\",\"fUniqueID\":0,\"fBits\":3342344,\"fLineColor\":1,\"fLineStyle\":1,\"fLineWidth\":1,\"fFillColor\":0,\"fFillStyle\":1001,\"fLeftMargin\":0.16,\"fRightMargin\":0.05,\"fBottomMargin\":0.16,\"fTopMargin\":0.05,\"fXfile\":2,\"fYfile\":2,\"fAfile\":1,\"fXstat\":0.99,\"fYstat\":0.99,\"fAstat\":2,\"fFrameFillColor\":0,\"fFrameLineColor\":1,\"fFrameFillStyle\":1001,\"fFrameLineStyle\":1,\"fFrameLineWidth\":1,\"fFrameBorderSize\":1,\"fFrameBorderMode\":0,\"fX1\":115.569620373501,\"fY1\":-2.15838121981156,\"fX2\":130.759493661574,\"fY2\":11.3315019568017,\"fXtoAbsPixelk\":-5295.40000071089,\"fXtoPixelk\":-5295.40000071089,\"fXtoPixel\":45.820000391081,\"fYtoAbsPixelk\":606.480054733801,\"fYtoPixelk\":606.480054733801,\"fYtoPixel\":-53.5215902574823,\"fUtoAbsPixelk\":5e-5,\"fUtoPixelk\":5e-5,\"fUtoPixel\":696,\"fVtoAbsPixelk\":722.00005,\"fVtoPixelk\":722,\"fVtoPixel\":-722,\"fAbsPixeltoXk\":115.569620373501,\"fPixeltoXk\":115.569620373501,\"fPixeltoX\":0.0218245305863126,\"fAbsPixeltoYk\":11.3315019568017,\"fPixeltoYk\":-2.15838121981156,\"fPixeltoY\":-0.018684048721071,\"fXlowNDC\":0,\"fYlowNDC\":0,\"fXUpNDC\":1,\"fYUpNDC\":1,\"fWNDC\":1,\"fHNDC\":1,\"fAbsXlowNDC\":0,\"fAbsYlowNDC\":0,\"fAbsWNDC\":1,\"fAbsHNDC\":1,\"fUxmin\":118,\"fUymin\":0,\"fUxmax\":130,\"fUymax\":10.6570078004837,\"fTheta\":30,\"fPhi\":30,\"fAspectRatio\":0,\"fNumber\":0,\"fTickx\":1,\"fTicky\":1,\"fLogx\":0,\"fLogy\":0,\"fLogz\":0,\"fPadPaint\":0,\"fCrosshair\":0,\"fCrosshairPos\":0,\"fBorderSize\":2,\"fBorderMode\":0,\"fModified\":false,\"fGridx\":false,\"fGridy\":false,\"fAbsCoord\":false,\"fEditable\":true,\"fFixedAspectRatio\":false,\"fPrimitives\":{\"_typename\":\"TList\",\"name\":\"TList\",\"arr\":[{\"_typename\":\"TFrame\",\"fUniqueID\":0,\"fBits\":8,\"fLineColor\":1,\"fLineStyle\":1,\"fLineWidth\":1,\"fFillColor\":0,\"fFillStyle\":1001,\"fX1\":118,\"fY1\":0,\"fX2\":130,\"fY2\":10.6570078004837,\"fBorderSize\":1,\"fBorderMode\":0},{\"_typename\":\"TH1D\",\"fUniqueID\":0,\"fBits\":520,\"fName\":\"frame_37c1f3a0\",\"fTitle\":\"A RooPlot of \\\"mean\\\"\",\"fLineColor\":1,\"fLineStyle\":1,\"fLineWidth\":2,\"fFillColor\":0,\"fFillStyle\":1001,\"fMarkerColor\":1,\"fMarkerStyle\":20,\"fMarkerSize\":1.2,\"fNcells\":102,\"fXaxis\":{\"_typename\":\"TAxis\",\"fUniqueID\":0,\"fBits\":0,\"fName\":\"xaxis\",\"fTitle\":\"mean\",\"fNdivisions\":510,\"fAxisColor\":1,\"fLabelColor\":1,\"fLabelFont\":42,\"fLabelOffset\":0.005,\"fLabelSize\":0.05,\"fTickLength\":0.03,\"fTitleOffset\":1.4,\"fTitleSize\":0.05,\"fTitleColor\":1,\"fTitleFont\":42,\"fNbins\":100,\"fXmin\":118,\"fXmax\":130,\"fXbins\":[],\"fFirst\":0,\"fLast\":0,\"fBits2\":0,\"fTimeDisplay\":false,\"fTimeFormat\":\"\",\"fLabels\":null,\"fModLabs\":null},\"fYaxis\":{\"_typename\":\"TAxis\",\"fUniqueID\":0,\"fBits\":0,\"fName\":\"yaxis\",\"fTitle\":\"Projection of -log(likelihood)\",\"fNdivisions\":510,\"fAxisColor\":1,\"fLabelColor\":1,\"fLabelFont\":42,\"fLabelOffset\":0.005,\"fLabelSize\":0.05,\"fTickLength\":0.03,\"fTitleOffset\":1.4,\"fTitleSize\":0.05,\"fTitleColor\":1,\"fTitleFont\":42,\"fNbins\":1,\"fXmin\":0,\"fXmax\":1,\"fXbins\":[],\"fFirst\":0,\"fLast\":0,\"fBits2\":0,\"fTimeDisplay\":false,\"fTimeFormat\":\"\",\"fLabels\":null,\"fModLabs\":null},\"fZaxis\":{\"_typename\":\"TAxis\",\"fUniqueID\":0,\"fBits\":0,\"fName\":\"zaxis\",\"fTitle\":\"\",\"fNdivisions\":510,\"fAxisColor\":1,\"fLabelColor\":1,\"fLabelFont\":42,\"fLabelOffset\":0.005,\"fLabelSize\":0.05,\"fTickLength\":0.03,\"fTitleOffset\":1,\"fTitleSize\":0.05,\"fTitleColor\":1,\"fTitleFont\":42,\"fNbins\":1,\"fXmin\":0,\"fXmax\":1,\"fXbins\":[],\"fFirst\":0,\"fLast\":0,\"fBits2\":0,\"fTimeDisplay\":false,\"fTimeFormat\":\"\",\"fLabels\":null,\"fModLabs\":null},\"fBarOffset\":0,\"fBarWidth\":1000,\"fEntries\":1,\"fTsumw\":0,\"fTsumw2\":0,\"fTsumwx\":0,\"fTsumwx2\":0,\"fMaximum\":10.6570078004837,\"fMinimum\":-1111,\"fNormFactor\":0,\"fContour\":[],\"fSumw2\":[],\"fOption\":\"\",\"fFunctions\":{\"_typename\":\"TList\",\"name\":\"TList\",\"arr\":[],\"opt\":[]},\"fBufferSize\":0,\"fBuffer\":[],\"fBinStatErrOpt\":0,\"fStatOverflows\":2,\"fArray\":[0,10.6570078004837,0,0,0,0,0,0,0,0,0,0,0,0,0,0,0,0,0,0,0,0,0,0,0,0,0,0,0,0,0,0,0,0,0,0,0,0,0,0,0,0,0,0,0,0,0,0,0,0,0,0,0,0,0,0,0,0,0,0,0,0,0,0,0,0,0,0,0,0,0,0,0,0,0,0,0,0,0,0,0,0,0,0,0,0,0,0,0,0,0,0,0,0,0,0,0,0,0,0,0,0]},{\"_typename\":\"RooCurve\",\"fUniqueID\":0,\"fBits\":525320,\"fName\":\"nll_g_data_Norm[mean]\",\"fTitle\":\"Projection of -log(likelihood)\",\"fLineColor\":600,\"fLineStyle\":1,\"fLineWidth\":3,\"fFillColor\":0,\"fFillStyle\":1000,\"fMarkerColor\":1,\"fMarkerStyle\":20,\"fMarkerSize\":1.2,\"fNpoints\":106,\"fX\":[117.87988,117.88,118,118.12,118.24,118.36,118.48,118.6,118.72,118.84,118.96,119.08,119.2,119.32,119.44,119.56,119.68,119.8,119.92,120.04,120.16,120.28,120.4,120.52,120.64,120.76,120.88,121,121.12,121.24,121.36,121.48,121.6,121.72,121.84,121.96,122.08,122.2,122.32,122.44,122.56,122.68,122.8,122.92,123.04,123.16,123.28,123.4,123.52,123.64,123.76,123.88,124,124.12,124.24,124.36,124.48,124.6,124.72,124.84,124.96,125.08,125.2,125.32,125.44,125.56,125.68,125.8,125.92,126.04,126.16,126.28,126.4,126.52,126.64,126.76,126.88,127,127.12,127.24,127.36,127.48,127.6,127.72,127.84,127.96,128.08,128.2,128.32,128.44,128.56,128.68,128.8,128.92,129.04,129.16,129.28,129.4,129.52,129.64,129.76,129.88,130,130,130.12,130.12012],\"fY\":[0,10.1495312385559,10.1495312385559,9.7731211305531,9.40183130055877,9.03578381467656,8.67510258754199,8.31991328559438,7.97034321792884,7.62652121417594,7.28857748889356,6.95664349200386,6.63085174486691,6.31133566165,5.99822935573409,5.69166743099107,5.39178475786966,5.09871623434586,4.81259653192189,4.53355982699892,4.26173951809867,3.99726792957093,3.74027600259269,3.49089297443964,3.24924604719132,3.0154600472139,2.78965707694491,2.57195616068338,2.3624728862602,2.16131904462381,1.96860226952459,1.78442567961148,1.60888752536313,1.44208084336167,1.28409312047524,1.13500597054232,0.994894826147227,0.863828648036847,0.741869654654113,0.629073074154043,0.525486921122461,0.431151800037057,0.346100737298464,0.270359043416235,0.203944206666264,0.146865819244994,0.0991255366375441,0.0607170705960236,0.0316262157966136,0.0118309099151368,0.00130132653663395,0,0.00788198098011961,0.0248950213314636,0.0509797864631452,0.086070093290342,0.130093171612977,0.182969946612392,0.244615340031856,0.314938587517325,0.393843569541577,0.481229153315972,0.57698954310851,0.68101463643282,0.793190383646618,0.913399148597982,1.04152006807992,1.1774294079941,1.32100091428084,1.47210615683951,1.63061486483988,1.79639525200466,1.96931433062647,2.14923821326335,2.33603240123487,2.52956205921254,2.72969227536306,2.93628830665792,3.14921580910766,3.36834105281337,3.59353112184973,3.82465409910345,4.06157923628977,4.3041771094542,4.55231976034128,4.80588082407494,5.0647356436466,5.32876137174851,5.59783706052428,5.87184373982907,6.15066448461153,6.43418447203589,6.72229102896673,7.0148736704355,7.31182412970111,7.61303638050374,7.91840665209823,8.22783343763332,8.54121749642411,8.85846185064258,9.17947177692832,9.50415479339566,9.83242064249136,9.83242064249136,9.83242064249136,0],\"fFunctions\":{\"_typename\":\"TList\",\"name\":\"TList\",\"arr\":[],\"opt\":[]},\"fHistogram\":{\"_typename\":\"TH1F\",\"fUniqueID\":0,\"fBits\":512,\"fName\":\"nll_g_data_Norm[mean]\",\"fTitle\":\"Projection of -log(likelihood)\",\"fLineColor\":1,\"fLineStyle\":1,\"fLineWidth\":2,\"fFillColor\":0,\"fFillStyle\":1001,\"fMarkerColor\":1,\"fMarkerStyle\":20,\"fMarkerSize\":1.2,\"fNcells\":108,\"fXaxis\":{\"_typename\":\"TAxis\",\"fUniqueID\":0,\"fBits\":0,\"fName\":\"xaxis\",\"fTitle\":\"\",\"fNdivisions\":510,\"fAxisColor\":1,\"fLabelColor\":1,\"fLabelFont\":42,\"fLabelOffset\":0.005,\"fLabelSize\":0.05,\"fTickLength\":0.03,\"fTitleOffset\":1.4,\"fTitleSize\":0.05,\"fTitleColor\":1,\"fTitleFont\":42,\"fNbins\":106,\"fXmin\":116.655856,\"fXmax\":131.344144,\"fXbins\":[],\"fFirst\":0,\"fLast\":0,\"fBits2\":0,\"fTimeDisplay\":false,\"fTimeFormat\":\"\",\"fLabels\":null,\"fModLabs\":null},\"fYaxis\":{\"_typename\":\"TAxis\",\"fUniqueID\":0,\"fBits\":0,\"fName\":\"yaxis\",\"fTitle\":\"\",\"fNdivisions\":510,\"fAxisColor\":1,\"fLabelColor\":1,\"fLabelFont\":42,\"fLabelOffset\":0.005,\"fLabelSize\":0.05,\"fTickLength\":0.03,\"fTitleOffset\":1.4,\"fTitleSize\":0.05,\"fTitleColor\":1,\"fTitleFont\":42,\"fNbins\":1,\"fXmin\":0,\"fXmax\":11.1644843624115,\"fXbins\":[],\"fFirst\":0,\"fLast\":0,\"fBits2\":0,\"fTimeDisplay\":false,\"fTimeFormat\":\"\",\"fLabels\":null,\"fModLabs\":null},\"fZaxis\":{\"_typename\":\"TAxis\",\"fUniqueID\":0,\"fBits\":0,\"fName\":\"zaxis\",\"fTitle\":\"\",\"fNdivisions\":510,\"fAxisColor\":1,\"fLabelColor\":1,\"fLabelFont\":42,\"fLabelOffset\":0.005,\"fLabelSize\":0.05,\"fTickLength\":0.03,\"fTitleOffset\":1,\"fTitleSize\":0.05,\"fTitleColor\":1,\"fTitleFont\":42,\"fNbins\":1,\"fXmin\":0,\"fXmax\":1,\"fXbins\":[],\"fFirst\":0,\"fLast\":0,\"fBits2\":0,\"fTimeDisplay\":false,\"fTimeFormat\":\"\",\"fLabels\":null,\"fModLabs\":null},\"fBarOffset\":0,\"fBarWidth\":1000,\"fEntries\":0,\"fTsumw\":0,\"fTsumw2\":0,\"fTsumwx\":0,\"fTsumwx2\":0,\"fMaximum\":11.1644843624115,\"fMinimum\":0,\"fNormFactor\":0,\"fContour\":[],\"fSumw2\":[],\"fOption\":\"\",\"fFunctions\":{\"_typename\":\"TList\",\"name\":\"TList\",\"arr\":[],\"opt\":[]},\"fBufferSize\":0,\"fBuffer\":[],\"fBinStatErrOpt\":0,\"fStatOverflows\":2,\"fArray\":[0,0,0,0,0,0,0,0,0,0,0,0,0,0,0,0,0,0,0,0,0,0,0,0,0,0,0,0,0,0,0,0,0,0,0,0,0,0,0,0,0,0,0,0,0,0,0,0,0,0,0,0,0,0,0,0,0,0,0,0,0,0,0,0,0,0,0,0,0,0,0,0,0,0,0,0,0,0,0,0,0,0,0,0,0,0,0,0,0,0,0,0,0,0,0,0,0,0,0,0,0,0,0,0,0,0,0,0]},\"fMinimum\":-1111,\"fMaximum\":-1111,\"_yAxisLabel\":\"Projection of -log(likelihood)\",\"_ymin\":0,\"_ymax\":10.1495312385559,\"_normValue\":0},{\"$ref\":3},{\"_typename\":\"TStyle\",\"fUniqueID\":0,\"fBits\":0,\"fName\":\"ATLAS\",\"fTitle\":\"ATLAS Style\",\"fLineColor\":1,\"fLineStyle\":1,\"fLineWidth\":1,\"fFillColor\":19,\"fFillStyle\":1001,\"fMarkerColor\":1,\"fMarkerStyle\":20,\"fMarkerSize\":1.2,\"fTextAngle\":0,\"fTextSize\":0.05,\"fTextAlign\":11,\"fTextColor\":1,\"fTextFont\":42,\"fXaxis\":{\"_typename\":\"TAttAxis\",\"fNdivisions\":510,\"fAxisColor\":1,\"fLabelColor\":1,\"fLabelFont\":42,\"fLabelOffset\":0.005,\"fLabelSize\":0.05,\"fTickLength\":0.03,\"fTitleOffset\":1.4,\"fTitleSize\":0.05,\"fTitleColor\":1,\"fTitleFont\":42},\"fYaxis\":{\"_typename\":\"TAttAxis\",\"fNdivisions\":510,\"fAxisColor\":1,\"fLabelColor\":1,\"fLabelFont\":42,\"fLabelOffset\":0.005,\"fLabelSize\":0.05,\"fTickLength\":0.03,\"fTitleOffset\":1.4,\"fTitleSize\":0.05,\"fTitleColor\":1,\"fTitleFont\":42},\"fZaxis\":{\"_typename\":\"TAttAxis\",\"fNdivisions\":510,\"fAxisColor\":1,\"fLabelColor\":1,\"fLabelFont\":42,\"fLabelOffset\":0.005,\"fLabelSize\":0.05,\"fTickLength\":0.03,\"fTitleOffset\":1,\"fTitleSize\":0.05,\"fTitleColor\":1,\"fTitleFont\":42},\"fBarWidth\":1,\"fBarOffset\":0,\"fColorModelPS\":0,\"fDrawBorder\":0,\"fOptLogx\":0,\"fOptLogy\":0,\"fOptLogz\":0,\"fOptDate\":0,\"fOptStat\":0,\"fOptTitle\":0,\"fOptFile\":0,\"fOptFit\":0,\"fShowEventStatus\":0,\"fShowEditor\":0,\"fShowToolBar\":0,\"fNumberContours\":20,\"fAttDate\":{\"_typename\":\"TAttText\",\"fTextAngle\":0,\"fTextSize\":0.025,\"fTextAlign\":11,\"fTextColor\":1,\"fTextFont\":62},\"fDateX\":0.01,\"fDateY\":0.01,\"fEndErrorSize\":0,\"fErrorX\":0.5,\"fFuncColor\":1,\"fFuncStyle\":1,\"fFuncWidth\":3,\"fGridColor\":0,\"fGridStyle\":3,\"fGridWidth\":1,\"fLegendBorderSize\":4,\"fLegendFillColor\":0,\"fLegendFont\":62,\"fLegendTextSize\":0,\"fHatchesLineWidth\":1,\"fHatchesSpacing\":1,\"fFrameFillColor\":0,\"fFrameLineColor\":1,\"fFrameFillStyle\":1001,\"fFrameLineStyle\":1,\"fFrameLineWidth\":1,\"fFrameBorderSize\":1,\"fFrameBorderMode\":0,\"fHistFillColor\":0,\"fHistLineColor\":1,\"fHistFillStyle\":1001,\"fHistLineStyle\":1,\"fHistLineWidth\":2,\"fHistMinimumZero\":false,\"fHistTopMargin\":0.05,\"fCanvasPreferGL\":false,\"fCanvasColor\":0,\"fCanvasBorderSize\":2,\"fCanvasBorderMode\":0,\"fCanvasDefH\":500,\"fCanvasDefW\":700,\"fCanvasDefX\":10,\"fCanvasDefY\":10,\"fPadColor\":0,\"fPadBorderSize\":2,\"fPadBorderMode\":0,\"fPadBottomMargin\":0.16,\"fPadTopMargin\":0.05,\"fPadLeftMargin\":0.16,\"fPadRightMargin\":0.05,\"fPadGridX\":false,\"fPadGridY\":false,\"fPadTickX\":1,\"fPadTickY\":1,\"fPaperSizeX\":20,\"fPaperSizeY\":26,\"fScreenFactor\":1,\"fStatColor\":0,\"fStatTextColor\":1,\"fStatBorderSize\":2,\"fStatFont\":62,\"fStatFontSize\":0,\"fStatStyle\":1001,\"fStatFormat\":\"6.4g\",\"fStatX\":0.98,\"fStatY\":0.995,\"fStatW\":0.2,\"fStatH\":0.16,\"fStripDecimals\":true,\"fTitleAlign\":13,\"fTitleColor\":19,\"fTitleTextColor\":1,\"fTitleBorderSize\":2,\"fTitleFont\":62,\"fTitleFontSize\":0,\"fTitleStyle\":1001,\"fTitleX\":0.01,\"fTitleY\":0.995,\"fTitleW\":0,\"fTitleH\":0,\"fLegoInnerR\":0.5,\"fLineStyle\":[\"\",\"  \",\"  12 12 \",\" 4 8\",\" 12 16 4 16\",\" 20 12 4 12\",\" 20 12 4 12 4 12 4 12\",\" 20 20\",\" 20 12 4 12 4 12\",\" 80 20\",\" 80 40 4 40\",\"  \",\"  \",\"  \",\"  \",\"  \",\"  \",\"  \",\"  \",\"  \",\"  \",\"  \",\"  \",\"  \",\"  \",\"  \",\"  \",\"  \",\"  \",\"  \"],\"fHeaderPS\":\"\",\"fTitlePS\":\"\",\"fFitFormat\":\"5.4g\",\"fPaintTextFormat\":\"g\",\"fLineScalePS\":3,\"fJoinLinePS\":0,\"fCapLinePS\":0,\"fTimeOffset\":788918400,\"fImageScaling\":1}],\"opt\":[\"\",\"FUNC\",\"l\",\"AXISSAME\",\"\"]},\"fExecs\":null,\"fName\":\"c\",\"fTitle\":\"c\",\"fNumPaletteColor\":0,\"fNextPaletteColor\":0,\"fDISPLAY\":\"$DISPLAY\",\"fDoubleBuffer\":0,\"fRetained\":true,\"fXsizeUser\":0,\"fYsizeUser\":0,\"fXsizeReal\":18.66667,\"fYsizeReal\":20,\"fWindowTopX\":0,\"fWindowTopY\":0,\"fWindowWidth\":0,\"fWindowHeight\":0,\"fCw\":696,\"fCh\":722,\"fCatt\":{\"_typename\":\"TAttCanvas\",\"fXBetween\":2,\"fYBetween\":2,\"fTitleFromTop\":1.2,\"fXdate\":0.2,\"fYdate\":0.3,\"fAdate\":1},\"kMoveOpaque\":true,\"kResizeOpaque\":true,\"fHighLightColor\":2,\"fBatch\":true,\"kShowEventStatus\":false,\"kAutoExec\":true,\"kMenuBar\":true});\n",
       "   Core.settings.HandleKeys = false;\n",
       "   Core.draw(\"root_plot_1716836823316\", obj, \"\");\n",
       "}\n",
       "\n",
       "function script_load_root_plot_1716836823316(src, on_error) {\n",
       "    let script = document.createElement('script');\n",
       "    script.src = src;\n",
       "    script.onload = function() { display_root_plot_1716836823316(JSROOT); };\n",
       "    script.onerror = function() { script.remove(); on_error(); };\n",
       "    document.head.appendChild(script);\n",
       "}\n",
       "\n",
       "if (typeof requirejs !== 'undefined') {\n",
       "\n",
       "    // We are in jupyter notebooks, use require.js which should be configured already\n",
       "    requirejs.config({\n",
       "       paths: { 'JSRootCore' : [ 'scripts/JSRoot.core', 'https://root.cern/js/6.1.1/scripts/JSRoot.core.min', 'https://jsroot.gsi.de/6.1.1/scripts/JSRoot.core.min' ] }\n",
       "    })(['JSRootCore'],  function(Core) {\n",
       "       display_root_plot_1716836823316(Core);\n",
       "    });\n",
       "\n",
       "} else if (typeof JSROOT !== 'undefined') {\n",
       "\n",
       "   // JSROOT already loaded, just use it\n",
       "   display_root_plot_1716836823316(JSROOT);\n",
       "\n",
       "} else {\n",
       "\n",
       "    // We are in jupyterlab without require.js, directly loading jsroot\n",
       "    // Jupyterlab might be installed in a different base_url so we need to know it.\n",
       "    try {\n",
       "        var base_url = JSON.parse(document.getElementById('jupyter-config-data').innerHTML).baseUrl;\n",
       "    } catch(_) {\n",
       "        var base_url = '/';\n",
       "    }\n",
       "\n",
       "    // Try loading a local version of requirejs and fallback to cdn if not possible.\n",
       "    script_load_root_plot_1716836823316(base_url + 'static/scripts/JSRoot.core.js', function(){\n",
       "        console.error('Fail to load JSROOT locally, please check your jupyter_notebook_config.py file');\n",
       "        script_load_root_plot_1716836823316('https://root.cern/js/6.1.1/scripts/JSRoot.core.min.js', function(){\n",
       "            document.getElementById(\"root_plot_1716836823316\").innerHTML = \"Failed to load JSROOT\";\n",
       "        });\n",
       "    });\n",
       "}\n",
       "\n",
       "</script>\n"
      ],
      "text/plain": [
       "<IPython.core.display.HTML object>"
      ]
     },
     "metadata": {},
     "output_type": "display_data"
    }
   ],
   "source": [
    "C = R.TCanvas(\"c\", \"c\", 700, 750)\n",
    "\n",
    "w = R.RooWorkspace('w')\n",
    "\n",
    "g = w.factory('Gaussian::g(x[117.5,128.5],mean[118,130],sigma[0.1,50])')\n",
    "\n",
    "x = w.var('x')\n",
    "sigma = w.var('sigma')\n",
    "mean = w.var('mean')\n",
    "\n",
    "data = R.RooDataHist(\"data\", \"data\", x, H_mllll['s+b'])\n",
    "\n",
    "nll = g.createNLL(data)\n",
    "\n",
    "minimizer = R.RooMinimizer(nll)\n",
    "minimizer.minimize('Minuit2')\n",
    "\n",
    "pll_mean = nll.createProfile(mean)\n",
    "\n",
    "frame = mean.frame()\n",
    "\n",
    "tmp = nll.plotOn(frame, R.RooFit.ShiftToZero())\n",
    "p = tmp.getObject(0)\n",
    "\n",
    "frame.Draw()\n",
    "\n",
    "C.Draw()"
   ]
  },
  {
   "cell_type": "code",
   "execution_count": 36,
   "id": "eb3315af-87b5-48cc-af86-d83beb83539e",
   "metadata": {},
   "outputs": [
    {
     "data": {
      "text/plain": [
       "0.9948948261472275"
      ]
     },
     "execution_count": 36,
     "metadata": {},
     "output_type": "execute_result"
    }
   ],
   "source": [
    "p.interpolate(122.08)\n"
   ]
  },
  {
   "cell_type": "code",
   "execution_count": 37,
   "id": "996cdbac-edb2-45af-89c5-ee9570d15aca",
   "metadata": {},
   "outputs": [
    {
     "name": "stdout",
     "output_type": "stream",
     "text": [
      "123.82399403254092 1.2750035022716588 1.2750035022716588 -1.2750035022716588\n",
      "1.0094973997297327\n"
     ]
    }
   ],
   "source": [
    "print(mean.getValV(), mean.getError(), mean.getErrorHi(), mean.getErrorLo())\n",
    "\n",
    "print(125/mean.getValV())"
   ]
  },
  {
   "cell_type": "markdown",
   "id": "567a2006-7a67-465d-b7c0-cee4e72f01a7",
   "metadata": {},
   "source": [
    "### Statistical analysis"
   ]
  },
  {
   "cell_type": "code",
   "execution_count": 38,
   "id": "8a2411b1-a38b-4062-961a-1feee567e4cd",
   "metadata": {},
   "outputs": [
    {
     "data": {
      "text/plain": [
       "279.0"
      ]
     },
     "execution_count": 38,
     "metadata": {},
     "output_type": "execute_result"
    }
   ],
   "source": [
    "H_mllll_d.GetEntries()"
   ]
  },
  {
   "cell_type": "code",
   "execution_count": 39,
   "id": "4c505e22-645c-494c-8ca8-7ade67442fb9",
   "metadata": {},
   "outputs": [],
   "source": [
    "bkgs = Backgrounds\n",
    "bkgs.remove('Higgs')"
   ]
  },
  {
   "cell_type": "code",
   "execution_count": 40,
   "id": "bc3c365d-0f5f-486f-9fd2-ab882d9b9c06",
   "metadata": {},
   "outputs": [
    {
     "name": "stdout",
     "output_type": "stream",
     "text": [
      "18.250661152898097 10.90181971275501\n"
     ]
    },
    {
     "data": {
      "text/plain": [
       "2.0274149395656136"
      ]
     },
     "execution_count": 40,
     "metadata": {},
     "output_type": "execute_result"
    }
   ],
   "source": [
    "b = 0\n",
    "b_err = 0\n",
    "for bkg in bkgs:\n",
    "    for i in range(11,14):\n",
    "        b += H_mllll[bkg].GetBinContent(i)\n",
    "        b_err += H_mllll[bkg].GetBinError(i)**2\n",
    "    \n",
    "b_err = np.sqrt(b_err)\n",
    "    \n",
    "s = H_mllll['Higgs'].GetBinContent(11)\n",
    "s += H_mllll['Higgs'].GetBinContent(12)\n",
    "s += H_mllll['Higgs'].GetBinContent(13)\n",
    "\n",
    "print(s+b,b)\n",
    "\n",
    "Z = np.sqrt(2*((s + b)*np.log(1 + s/b) - s))\n",
    "Z"
   ]
  },
  {
   "cell_type": "code",
   "execution_count": 41,
   "id": "2de7efde-0fe9-4864-b8df-463f96e3854b",
   "metadata": {},
   "outputs": [
    {
     "data": {
      "text/plain": [
       "2.216526837118688"
      ]
     },
     "execution_count": 41,
     "metadata": {},
     "output_type": "execute_result"
    }
   ],
   "source": [
    "n_obs = int(H_mllll_d.GetBinContent(11))\n",
    "n_obs += int(H_mllll_d.GetBinContent(12))\n",
    "n_obs += int(H_mllll_d.GetBinContent(13))\n",
    "\n",
    "Z = np.sqrt(2*(n_obs*np.log(n_obs/b) - n_obs + b))\n",
    "Z"
   ]
  },
  {
   "cell_type": "code",
   "execution_count": 42,
   "id": "f8419896-97c0-42ec-a419-ad43ff43ca3f",
   "metadata": {},
   "outputs": [],
   "source": [
    "sig_eff = selection.Selector().GetSignalEfficiency()\n"
   ]
  },
  {
   "cell_type": "code",
   "execution_count": 43,
   "id": "988b9d9a-7c5e-48f7-8192-0ea56f8a83b4",
   "metadata": {},
   "outputs": [
    {
     "name": "stdout",
     "output_type": "stream",
     "text": [
      "---------------------------\n",
      "Counting experiment \"4L\"\n",
      "---------------------------\n",
      "Int. luminosity = 10.06 +/- 0.37\n",
      "---------------------------\n",
      "Channel \"Signal region\":\n",
      "   Background = 10.90181971275501 +/- 0(uncorr) +/- 0.8625128143870154(corr)\n",
      "   Observed events = 19\n",
      "   Signal efficiency = 0.669409453868866 +/- 0.0\n",
      "Channel \"Control region\":\n",
      "   Background = 32.94662171836356 +/- 0(uncorr) +/- 0.07936952152976619(corr)\n",
      "   Observed events = 27\n",
      "   Signal efficiency = 0 +/- 0.0\n",
      "\n",
      "Significance = 2.1456760638260155\n"
     ]
    }
   ],
   "source": [
    "Z = pyStats.countingExperimentWithBkgCorr(name='4L', intLum=10.06, intLumUnc=0.37)\n",
    "\n",
    "n_obs = 0\n",
    "b = 0; b_err = 0\n",
    "for i in range(11,14):\n",
    "    n_obs += int(H_mllll_d.GetBinContent(i))\n",
    "    for bkg in bkgs:\n",
    "        b += H_mllll[bkg].GetBinContent(i)\n",
    "        b_err += H_mllll[bkg].GetBinError(i)**2\n",
    "Z.addChannel('Signal region', bkg=b, bkgUncUncorr=0, bkgUncCorr=b_err, Nobs=n_obs, eff=sig_eff)\n",
    "\n",
    "n_obs = 0\n",
    "b = 0; b_err = 0\n",
    "for i in range(1,4):\n",
    "    n_obs += int(H_mllll_d.GetBinContent(i))\n",
    "    for bkg in bkgs:\n",
    "        b += H_mllll[bkg].GetBinContent(i)\n",
    "        b_err += H_mllll[bkg].GetBinError(i)**2\n",
    "Z.addChannel('Control region', bkg=b, bkgUncUncorr=0, bkgUncCorr=b_err, Nobs=n_obs, eff=0)\n",
    "Z.setPriors(bkg='gauss');\n",
    "\n",
    "print(Z)\n",
    "\n",
    "print('Significance =', Z.getSignificance())"
   ]
  },
  {
   "cell_type": "code",
   "execution_count": 44,
   "id": "89e40a87-de00-4cf4-b9b3-aab1394bf40a",
   "metadata": {},
   "outputs": [
    {
     "data": {
      "text/plain": [
       "2.602611799306581"
      ]
     },
     "execution_count": 44,
     "metadata": {},
     "output_type": "execute_result"
    }
   ],
   "source": [
    "Z.getBayesianLimit()"
   ]
  },
  {
   "cell_type": "code",
   "execution_count": 45,
   "id": "f28c3a74-da96-45f5-9587-88da48bfb361",
   "metadata": {},
   "outputs": [
    {
     "data": {
      "text/plain": [
       "'m2sig,m1sig,expected,p1sig,p2sig = Z.getBayesianExpectedLimit();\\nprint( \"\\nExpected limit and bands:\" );\\nprint( \"  -2sigma                 -1sigma                 median                +1sigma                +2sigma\" );\\nprint( m2sig, \"   \", m1sig, \"   \", expected, \"   \", p1sig, \"   \", p2sig );'"
      ]
     },
     "execution_count": 45,
     "metadata": {},
     "output_type": "execute_result"
    }
   ],
   "source": [
    "\"\"\"m2sig,m1sig,expected,p1sig,p2sig = Z.getBayesianExpectedLimit();\n",
    "print( \"\\nExpected limit and bands:\" );\n",
    "print( \"  -2sigma                 -1sigma                 median                +1sigma                +2sigma\" );\n",
    "print( m2sig, \"   \", m1sig, \"   \", expected, \"   \", p1sig, \"   \", p2sig );\"\"\""
   ]
  },
  {
   "cell_type": "code",
   "execution_count": null,
   "id": "688f439c-5189-4c48-8f31-0e79ece3792e",
   "metadata": {},
   "outputs": [],
   "source": []
  }
 ],
 "metadata": {
  "kernelspec": {
   "display_name": "Python 3 (ipykernel)",
   "language": "python",
   "name": "python3"
  },
  "language_info": {
   "codemirror_mode": {
    "name": "ipython",
    "version": 3
   },
   "file_extension": ".py",
   "mimetype": "text/x-python",
   "name": "python",
   "nbconvert_exporter": "python",
   "pygments_lexer": "ipython3",
   "version": "3.8.10"
  }
 },
 "nbformat": 4,
 "nbformat_minor": 5
}
